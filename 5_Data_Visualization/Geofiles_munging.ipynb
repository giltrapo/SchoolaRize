{
 "cells": [
  {
   "cell_type": "code",
   "execution_count": 1,
   "metadata": {
    "scrolled": true
   },
   "outputs": [
    {
     "data": {
      "text/plain": [
       "u'/home/giltrapo/Master_Data_Science/TFM/5_Data_Visualization'"
      ]
     },
     "execution_count": 1,
     "metadata": {},
     "output_type": "execute_result"
    }
   ],
   "source": [
    "%pwd"
   ]
  },
  {
   "cell_type": "code",
   "execution_count": 2,
   "metadata": {},
   "outputs": [],
   "source": [
    "import numpy as np\n",
    "import pandas as pd\n",
    "import geopandas as gpd\n",
    "import difflib\n",
    "import urllib\n",
    "import zipfile\n",
    "import os\n",
    "import json\n",
    "import geojson"
   ]
  },
  {
   "cell_type": "code",
   "execution_count": 3,
   "metadata": {},
   "outputs": [],
   "source": [
    "# Load \"DataSchools\" and \"StudentsByPlace\" files.\n",
    "\n",
    "DataSchools = pd.read_csv(\"../4_Data_Analysis/csv_files/DataSchools.csv\", encoding = \"utf8\")\n",
    "StudentsByPlace = pd.read_csv(\"../3_Data_Munging/csv_files/StudentsByPlace.csv\", encoding = \"utf8\")"
   ]
  },
  {
   "cell_type": "code",
   "execution_count": 4,
   "metadata": {},
   "outputs": [],
   "source": [
    "# City Hall url to download shapefiles of Madrid City districts.\n",
    "\n",
    "url = \"http://datos.madrid.es/egob/catalogo/200078-9-distritos-barrios.zip\""
   ]
  },
  {
   "cell_type": "code",
   "execution_count": 5,
   "metadata": {},
   "outputs": [],
   "source": [
    "# Download shapefile and unzip it.\n",
    "\n",
    "urllib.urlretrieve (url, \"../5_Data_Visualization/geo_files/DISTRITOS_ETRS89.zip\")\n",
    "with zipfile.ZipFile(\"../5_Data_Visualization/geo_files/DISTRITOS_ETRS89.zip\",\"r\") as zip_file:\n",
    "    zip_file.extractall(\"../5_Data_Visualization/geo_files/\")"
   ]
  },
  {
   "cell_type": "code",
   "execution_count": 6,
   "metadata": {},
   "outputs": [],
   "source": [
    "# Load shapefile with geopandas, remove and rename variables.\n",
    "\n",
    "MAD_districts = gpd.read_file(\"../5_Data_Visualization/geo_files/SHP_ETRS89/DISTRITOS.shp\")\n",
    "MAD_districts.drop(MAD_districts.columns[[1, 2, 3]], axis = 1, inplace = True)\n",
    "MAD_districts.columns = [\"Distrito\", \"geometry\"]"
   ]
  },
  {
   "cell_type": "code",
   "execution_count": 7,
   "metadata": {},
   "outputs": [],
   "source": [
    "# We will use \"difflib\" library to standardize the names of the districts in \"MAD_districts\" and\n",
    "# \"StudentByPlace\" dataframes in order to merge them later.\n",
    "\n",
    "for i, district in enumerate(StudentsByPlace[\"Distrito\"].str.capitalize()):\n",
    "    try:\n",
    "        StudentsByPlace.loc[i, \"Distrito\"] = difflib.get_close_matches(district, MAD_districts[\"Distrito\"], n = 1)[0]\n",
    "    except:\n",
    "        StudentsByPlace.loc[i, \"Distrito\"] = np.NaN[0]"
   ]
  },
  {
   "cell_type": "code",
   "execution_count": 8,
   "metadata": {},
   "outputs": [],
   "source": [
    "# We will also standardize the names of the districts in \"DataSchools\" dataframe.\n",
    "\n",
    "for i, district in enumerate(DataSchools[\"Distrito\"].str.capitalize()):\n",
    "    try:\n",
    "        DataSchools.loc[i, \"Distrito\"] = difflib.get_close_matches(district, MAD_districts[\"Distrito\"], n = 1)[0]\n",
    "    except:\n",
    "        DataSchools.loc[i, \"Distrito\"] = np.NaN[0]"
   ]
  },
  {
   "cell_type": "code",
   "execution_count": 9,
   "metadata": {},
   "outputs": [],
   "source": [
    "# Merge information about students and places.\n",
    "\n",
    "MAD_districts = pd.merge(MAD_districts, StudentsByPlace, on = \"Distrito\")"
   ]
  },
  {
   "cell_type": "code",
   "execution_count": 10,
   "metadata": {
    "scrolled": true
   },
   "outputs": [],
   "source": [
    "# Transform from UTM to WGS84 (Lat-Lon) format.\n",
    "\n",
    "MAD_districts = MAD_districts.to_crs({'init': 'epsg:4326'})"
   ]
  },
  {
   "cell_type": "code",
   "execution_count": 11,
   "metadata": {},
   "outputs": [],
   "source": [
    "# Assign colors based on the value of the variable \"NinosxPlaza\", remove repeated variable and rename columns,\n",
    "# and encode to utf-8 \"Distrito\" variable.\n",
    "\n",
    "MAD_districts.loc[MAD_districts[\"NinosxPlaza\"] <= 1.5, \"Color\"] = \"#e0fbfc\"\n",
    "MAD_districts.loc[(MAD_districts[\"NinosxPlaza\"] > 1.5) & (MAD_districts[\"NinosxPlaza\"] <= 2.5), \"Color\"] = \"#c2dfe3\"\n",
    "MAD_districts.loc[(MAD_districts[\"NinosxPlaza\"] > 2.5) & (MAD_districts[\"NinosxPlaza\"] <= 3.5), \"Color\"] = \"#9db4c0\"\n",
    "MAD_districts.loc[(MAD_districts[\"NinosxPlaza\"] > 3.5) & (MAD_districts[\"NinosxPlaza\"] <= 4.5), \"Color\"] = \"#5c6b73\"\n",
    "MAD_districts.loc[MAD_districts[\"NinosxPlaza\"] > 8, \"Color\"] = \"#253237\"\n",
    "MAD_districts[\"Distrito\"] = MAD_districts[\"Distrito\"].str.encode('utf-8')"
   ]
  },
  {
   "cell_type": "code",
   "execution_count": 12,
   "metadata": {
    "scrolled": true
   },
   "outputs": [],
   "source": [
    "# Add columns with coordinates (to center district on the map) and zoom level.\n",
    "\n",
    "MAD_districts[\"Latitud\"] = \"\"\n",
    "MAD_districts[\"Longitud\"] = \"\"\n",
    "MAD_districts[\"Zoom\"] = \"\"\n",
    "MAD_districts.loc[MAD_districts[\"Distrito\"] == \"Arganzuela\", \"Latitud\":\"Zoom\"] = (40.398, -3.698, 13.5)\n",
    "MAD_districts.loc[MAD_districts[\"Distrito\"] == \"Barajas\", \"Latitud\":\"Zoom\"] = (40.479, -3.585, 12.5)\n",
    "MAD_districts.loc[MAD_districts[\"Distrito\"] == \"Carabanchel\", \"Latitud\":\"Zoom\"] = (40.3815, -3.736, 13)\n",
    "MAD_districts.loc[MAD_districts[\"Distrito\"] == \"Centro\", \"Latitud\":\"Zoom\"] = (40.418, -3.707, 13.9)\n",
    "MAD_districts.loc[MAD_districts[\"Distrito\"] == \"Chamartín\", \"Latitud\":\"Zoom\"] = (40.461, -3.678, 13.0)\n",
    "MAD_districts.loc[MAD_districts[\"Distrito\"] == \"Chamberí\", \"Latitud\":\"Zoom\"] = (40.437, -3.705, 14.0)\n",
    "MAD_districts.loc[MAD_districts[\"Distrito\"] == \"Ciudad Lineal\", \"Latitud\":\"Zoom\"] = (40.450, -3.665, 12.4)\n",
    "MAD_districts.loc[MAD_districts[\"Distrito\"] == \"Fuencarral - El Pardo\", \"Latitud\":\"Zoom\"] = (40.550, -3.760, 11.0)\n",
    "MAD_districts.loc[MAD_districts[\"Distrito\"] == \"Hortaleza\", \"Latitud\":\"Zoom\"] = (40.480, -3.640, 12.5)\n",
    "MAD_districts.loc[MAD_districts[\"Distrito\"] == \"Latina\", \"Latitud\":\"Zoom\"] = (40.390, -3.781, 12.5)\n",
    "MAD_districts.loc[MAD_districts[\"Distrito\"] == \"Moncloa - Aravaca\", \"Latitud\":\"Zoom\"] = (40.440, -3.768, 12.2)\n",
    "MAD_districts.loc[MAD_districts[\"Distrito\"] == \"Moratalaz\", \"Latitud\":\"Zoom\"] = (40.406, -3.644, 13.8)\n",
    "MAD_districts.loc[MAD_districts[\"Distrito\"] == \"Puente de Vallecas\", \"Latitud\":\"Zoom\"] = (40.384, -3.662, 13.0)\n",
    "MAD_districts.loc[MAD_districts[\"Distrito\"] == \"Retiro\", \"Latitud\":\"Zoom\"] = (40.408, -3.677, 13.8)\n",
    "MAD_districts.loc[MAD_districts[\"Distrito\"] == \"Salamanca\", \"Latitud\":\"Zoom\"] = (40.432, -3.676, 13.8)\n",
    "MAD_districts.loc[MAD_districts[\"Distrito\"] == \"San Blas - Canillejas\", \"Latitud\":\"Zoom\"] = (40.432, -3.592, 12.5)\n",
    "MAD_districts.loc[MAD_districts[\"Distrito\"] == \"Tetuán\", \"Latitud\":\"Zoom\"] = (40.461, -3.700, 13.7)\n",
    "MAD_districts.loc[MAD_districts[\"Distrito\"] == \"Usera\", \"Latitud\":\"Zoom\"] = (40.378, -3.704, 13.5)\n",
    "MAD_districts.loc[MAD_districts[\"Distrito\"] == \"Vicálvaro\", \"Latitud\":\"Zoom\"] = (40.391, -3.575, 12.4)\n",
    "MAD_districts.loc[MAD_districts[\"Distrito\"] == \"Villa de Vallecas\", \"Latitud\":\"Zoom\"] = (40.350, -3.621, 12.2)\n",
    "MAD_districts.loc[MAD_districts[\"Distrito\"] == \"Villaverde\", \"Latitud\":\"Zoom\"] = (40.344, -3.696, 13.0)"
   ]
  },
  {
   "cell_type": "code",
   "execution_count": 13,
   "metadata": {
    "scrolled": true
   },
   "outputs": [],
   "source": [
    "# Save geodataframe in GeoJSON format.\n",
    "#\n",
    "# DISCLAIMER: \"to_file\" method of Geopandas uses \"fionna.open\", but in read mode, so if it is used without previously\n",
    "# deleting the previous GeoJSON file, an error will occur. For that reason, a \"try\" is added to the code to check if\n",
    "# the file already exists.\n",
    "\n",
    "try: \n",
    "    os.remove(\"../5_Data_Visualization/geo_files/geojson_districts\")\n",
    "except OSError:\n",
    "    pass\n",
    "\n",
    "MAD_districts.to_file(\"../5_Data_Visualization/geo_files/geojson_districts\", driver = \"GeoJSON\")"
   ]
  },
  {
   "cell_type": "code",
   "execution_count": 14,
   "metadata": {},
   "outputs": [],
   "source": [
    "# Segment geodataframe based on the variable \"NinosxPlaza\", and save it in GeoJSON format.\n",
    "#\n",
    "#plazas = [1, 2, 3, 4, 8]\n",
    "#\n",
    "#for i in plazas:\n",
    "#    lim_inf = i\n",
    "#    lim_sup = i + 1\n",
    "#    MAD_districts[(MAD_districts[\"NinosxPlaza\"] > lim_inf) & (MAD_districts[\"NinosxPlaza\"] < lim_sup)]\\\n",
    "#    .to_file(\"../4_Map/geo_files/geojson_districts_\" + str(i), driver = \"GeoJSON\")"
   ]
  },
  {
   "cell_type": "code",
   "execution_count": 15,
   "metadata": {},
   "outputs": [],
   "source": [
    "# Create list of sorted GeoJSON files.\n",
    "#\n",
    "#files = [\"../4_Map/geo_files/\" + f for f in os.listdir(\"../4_Map/geo_files/\") if f.startswith(\"geojson_districts_\")]\n",
    "#files.sort()"
   ]
  },
  {
   "cell_type": "code",
   "execution_count": 16,
   "metadata": {},
   "outputs": [],
   "source": [
    "# Load GeoJSON information by \"NinosxPlaza\" into dictionary.\n",
    "#\n",
    "#geojson_districts_groups = dict()\n",
    "#\n",
    "#for i, file in enumerate(files):\n",
    "#    objectname = \"group_\" + file[-1]\n",
    "#    with open(file) as data_file:\n",
    "#        geojson_file = json.load(data_file)\n",
    "#    geojson_districts_groups[objectname] = geojson_file"
   ]
  },
  {
   "cell_type": "code",
   "execution_count": 17,
   "metadata": {},
   "outputs": [],
   "source": [
    "# We going to build another file with the schools coordinates\n",
    "\n",
    "schools = DataSchools[[\"Colegio\", \"Distrito\", \"Latitud\", \"Longitud\", \"Solicitudes_2016.2017\",\n",
    "                       \"Admisiones_2016.2017\", \"Solicitudes_2017.2018\", \"Admisiones_2017.2018\"]].copy()\n",
    "schools.columns = [\"Colegio\", \"Distrito\", \"Latitud\", \"Longitud\", \"Solicitudes2017\", \"Admisiones2017\",\n",
    "                   \"Solicitudes2018\", \"Admisiones2018\"]\n",
    "schools[\"Admisiones2017p\"] = (schools[\"Admisiones2017\"]/schools[\"Solicitudes2017\"])*100\n",
    "schools[\"Admisiones2017p\"] = schools[\"Admisiones2017p\"].round(1)\n",
    "schools[\"Admisiones2017p_str\"] = schools[\"Admisiones2017p\"].apply(str)\n",
    "schools.loc[schools[\"Admisiones2017p_str\"] == \"nan\", \"Admisiones2017p_str\"] = \"Sin datos\"\n",
    "schools.loc[schools[\"Admisiones2017p_str\"] != \"Sin datos\", \"Admisiones2017p_str\"] = schools[\"Admisiones2017p_str\"] + \"%\"\n",
    "schools[\"Admisiones2018p\"] = (schools[\"Admisiones2018\"]/schools[\"Solicitudes2018\"])*100\n",
    "schools[\"Admisiones2018p\"] = schools[\"Admisiones2018p\"].round(1)\n",
    "schools[\"Admisiones2018p_str\"] = schools[\"Admisiones2018p\"].apply(str)\n",
    "schools.loc[schools[\"Admisiones2018p_str\"] == \"nan\", \"Admisiones2018p_str\"] = \"Sin estimación\"\n",
    "schools.loc[schools[\"Admisiones2018p_str\"] != \"Sin estimación\", \"Admisiones2018p_str\"] =\\\n",
    "schools[\"Admisiones2018p_str\"] + \"%\""
   ]
  },
  {
   "cell_type": "code",
   "execution_count": 18,
   "metadata": {},
   "outputs": [],
   "source": [
    "schools.to_csv(\"../5_Data_Visualization/geo_files/schools.csv\", encoding = \"utf-8\", index = False)"
   ]
  },
  {
   "cell_type": "code",
   "execution_count": 19,
   "metadata": {},
   "outputs": [],
   "source": [
    "# Function to convert pandas dataframe to geojson format and save it.\n",
    "#\n",
    "#def pandas2geojson(df):\n",
    "#    features = []\n",
    "#    df.apply(lambda X: features.append(\n",
    "#        geojson.Feature(geometry = geojson.Point((X[\"Longitud\"],\n",
    "#                                                  X[\"Latitud\"])),\n",
    "#                        properties = dict(Colegio = X[\"Colegio\"],\n",
    "#                                          Distrito = X[\"Distrito\"],\n",
    "#                                          Admisiones = X[\"Admisiones_p\"],\n",
    "#                                          Color = X[\"Color\"]\n",
    "#                                         )\n",
    "#                       )),\n",
    "#             axis=1)\n",
    "#    with open(\"../4_Map/geo_files/geojson_schools\", \"w\") as fp:\n",
    "#        geojson.dump(geojson.FeatureCollection(features), fp, sort_keys = True)\n",
    "#\n",
    "#pandas2geojson(schools)"
   ]
  }
 ],
 "metadata": {
  "kernelspec": {
   "display_name": "Python 2",
   "language": "python",
   "name": "python2"
  },
  "language_info": {
   "codemirror_mode": {
    "name": "ipython",
    "version": 2
   },
   "file_extension": ".py",
   "mimetype": "text/x-python",
   "name": "python",
   "nbconvert_exporter": "python",
   "pygments_lexer": "ipython2",
   "version": "2.7.12"
  }
 },
 "nbformat": 4,
 "nbformat_minor": 2
}
