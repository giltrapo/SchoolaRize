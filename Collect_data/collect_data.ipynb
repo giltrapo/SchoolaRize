{
 "cells": [
  {
   "cell_type": "code",
   "execution_count": 1,
   "metadata": {
    "collapsed": true
   },
   "outputs": [],
   "source": [
    "# This script use sys, request, PyQt4, bs4 and pandas python libraries.\n",
    "\n",
    "import sys\n",
    "import requests\n",
    "from bs4 import BeautifulSoup\n",
    "from PyQt4.QtGui import QApplication\n",
    "from PyQt4.QtCore import QUrl\n",
    "from PyQt4.QtWebKit import QWebPage\n",
    "import pandas as pd\n",
    "import re"
   ]
  },
  {
   "cell_type": "markdown",
   "metadata": {},
   "source": [
    "### Collect codes of public elementary schools in municipality of Madrid."
   ]
  },
  {
   "cell_type": "code",
   "execution_count": 2,
   "metadata": {
    "collapsed": true
   },
   "outputs": [],
   "source": [
    "# Url to perform advanced searches.\n",
    "url_advsearch = \"http://www.madrid.org/wpad_pub/run/j/BusquedaAvanzada.icm\""
   ]
  },
  {
   "cell_type": "code",
   "execution_count": 3,
   "metadata": {
    "collapsed": true
   },
   "outputs": [],
   "source": [
    "# Parameter for searching public primary schools in municipality of Madrid\n",
    "params = {\"titularidadPublica\": \"S\", \"cdMuni\": \"079\", \"cdNivelEdu\": \"6545\"}"
   ]
  },
  {
   "cell_type": "code",
   "execution_count": 4,
   "metadata": {},
   "outputs": [],
   "source": [
    "# Request and parse list of schools.\n",
    "schools = BeautifulSoup(requests.post(url_advsearch, data = params).content, \"lxml\")"
   ]
  },
  {
   "cell_type": "code",
   "execution_count": 5,
   "metadata": {},
   "outputs": [],
   "source": [
    "# Extract list of school codes.\n",
    "school_codes = schools.findAll(attrs = {\"name\": \"codCentrosExp\", \"value\": re.compile(\"^.+$\")})[0][\"value\"]"
   ]
  },
  {
   "cell_type": "code",
   "execution_count": 6,
   "metadata": {},
   "outputs": [
    {
     "name": "stdout",
     "output_type": "stream",
     "text": [
      "247\n"
     ]
    }
   ],
   "source": [
    "# Convert from string to list.\n",
    "school_codes = school_codes.split(\";\")\n",
    "\n",
    "# Check codes.\n",
    "# 247 it's ok.\n",
    "print len(school_codes)"
   ]
  },
  {
   "cell_type": "markdown",
   "metadata": {},
   "source": [
    "### Extract tables from school cards."
   ]
  },
  {
   "cell_type": "code",
   "execution_count": 7,
   "metadata": {
    "collapsed": true
   },
   "outputs": [],
   "source": [
    "# The data that we want to obtain from each school is contained in tables,\n",
    "# whose content is generated on-the-fly through JavaScript code.\n",
    "# We can't use 'request' library again because only fetch source code of\n",
    "# the web page but it doesn't run code. So we need to mimic the rendering\n",
    "# process of a browser.\n",
    "# The QtWebKit module, in PyQt4 toolkit library, implements a web browser\n",
    "# engine based on the WebKit open source browser engine. \n",
    "\n",
    "\n",
    "# Create the class 'mimic-render' that is inheriting from QWebPage.\n",
    "class mimic_render(QWebPage):\n",
    "\n",
    "  def __init__(self, url):\n",
    "    self.app = QApplication(sys.argv)\n",
    "    QWebPage.__init__(self)\n",
    "    self.loadFinished.connect(self.on_page_load)\n",
    "    self.mainFrame().load(QUrl(url))\n",
    "    self.app.exec_()\n",
    "\n",
    "  def on_page_load(self, result):\n",
    "    self.frame = self.mainFrame()\n",
    "    self.app.quit()"
   ]
  },
  {
   "cell_type": "code",
   "execution_count": 8,
   "metadata": {
    "collapsed": true
   },
   "outputs": [],
   "source": [
    "# School card url.\n",
    "url_schoolcard = \"http://www.madrid.org/wpad_pub/run/j/MostrarFichaCentro.icm\"\n",
    "\n",
    "# School code parameter.\n",
    "school_code_par = \"cdCentro=\"\n",
    "\n",
    "# Url to instance the class 'mimic_render'.\n",
    "url_card_0 = url_schoolcard+\"?\"+school_code_par+school_codes[0]\n",
    "url_card_100 = url_schoolcard+\"?\"+school_code_par+school_codes[100]\n",
    "url_card_200 = url_schoolcard+\"?\"+school_code_par+school_codes[200]"
   ]
  },
  {
   "cell_type": "code",
   "execution_count": 9,
   "metadata": {
    "collapsed": true
   },
   "outputs": [],
   "source": [
    "# Create an instance of the class 'mimic_render'.\n",
    "# QtP4 load the web page creating a 'mimic_render' object, that is\n",
    "# basically a QWebPage object.\n",
    "render_content_0 = mimic_render(url_card_0)"
   ]
  },
  {
   "cell_type": "code",
   "execution_count": null,
   "metadata": {
    "collapsed": true
   },
   "outputs": [],
   "source": [
    "render_content_100 = mimic_render(url_card_100)"
   ]
  },
  {
   "cell_type": "code",
   "execution_count": null,
   "metadata": {
    "collapsed": true
   },
   "outputs": [],
   "source": [
    "render_content_200 = mimic_render(url_card_200)"
   ]
  },
  {
   "cell_type": "code",
   "execution_count": null,
   "metadata": {
    "collapsed": true
   },
   "outputs": [],
   "source": [
    "# QtP4 grab the source code from QWebPage.\n",
    "source_0 = render_content_0.frame.toHtml()\n",
    "source_100 = render_content_100.frame.toHtml()\n",
    "source_200 = render_content_200.frame.toHtml()"
   ]
  },
  {
   "cell_type": "code",
   "execution_count": null,
   "metadata": {
    "collapsed": true
   },
   "outputs": [],
   "source": [
    "# Convert QString to string so it can be handled by BeautifulSoup.\n",
    "formatted_source_0 = str(source_0.toAscii())\n",
    "formatted_source_100 = str(source_100.toAscii())\n",
    "formatted_source_200 = str(source_200.toAscii())"
   ]
  },
  {
   "cell_type": "code",
   "execution_count": null,
   "metadata": {
    "collapsed": true
   },
   "outputs": [],
   "source": [
    "# Parse school card.\n",
    "school_card_0 = BeautifulSoup(formatted_source_0, \"lxml\")\n",
    "school_card_100 = BeautifulSoup(formatted_source_100, \"lxml\")\n",
    "school_card_200 = BeautifulSoup(formatted_source_200, \"lxml\")"
   ]
  },
  {
   "cell_type": "code",
   "execution_count": null,
   "metadata": {
    "collapsed": true
   },
   "outputs": [],
   "source": [
    "# Extract tables html\n",
    "school_tables_0 = school_card_0.findAll('table', class_=\"tablaGraficaDatos\")\n",
    "school_tables_100 = school_card_100.findAll('table', class_=\"tablaGraficaDatos\")\n",
    "school_tables_200 = school_card_200.findAll('table', class_=\"tablaGraficaDatos\")"
   ]
  },
  {
   "cell_type": "code",
   "execution_count": null,
   "metadata": {
    "collapsed": true
   },
   "outputs": [],
   "source": [
    "# Extract school name\n",
    "school_name_0 = school_card_0.find(style=\"text-transform:uppercase\").next.next\n",
    "school_name_100 = school_card_100.find(style=\"text-transform:uppercase\").next.next\n",
    "school_name_200 = school_card_200.find(style=\"text-transform:uppercase\").next.next"
   ]
  },
  {
   "cell_type": "code",
   "execution_count": null,
   "metadata": {
    "collapsed": true
   },
   "outputs": [],
   "source": []
  }
 ],
 "metadata": {
  "kernelspec": {
   "display_name": "Python 2",
   "language": "python",
   "name": "python2"
  },
  "language_info": {
   "codemirror_mode": {
    "name": "ipython",
    "version": 2
   },
   "file_extension": ".py",
   "mimetype": "text/x-python",
   "name": "python",
   "nbconvert_exporter": "python",
   "pygments_lexer": "ipython2",
   "version": "2.7.12"
  }
 },
 "nbformat": 4,
 "nbformat_minor": 2
}
