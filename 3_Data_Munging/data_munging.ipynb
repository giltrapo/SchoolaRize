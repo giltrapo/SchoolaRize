{
 "cells": [
  {
   "cell_type": "code",
   "execution_count": 1,
   "metadata": {},
   "outputs": [
    {
     "data": {
      "text/plain": [
       "u'/home/giltrapo/Master_Data_Science/TFM/3_Data_Munging'"
      ]
     },
     "execution_count": 1,
     "metadata": {},
     "output_type": "execute_result"
    }
   ],
   "source": [
    "% pwd"
   ]
  },
  {
   "cell_type": "code",
   "execution_count": 2,
   "metadata": {},
   "outputs": [],
   "source": [
    "import pandas as pd\n",
    "import numpy as np\n",
    "import pickle\n",
    "import re\n",
    "import difflib\n",
    "from unidecode import unidecode"
   ]
  },
  {
   "cell_type": "code",
   "execution_count": 3,
   "metadata": {},
   "outputs": [],
   "source": [
    "# Load list of school codes\n",
    "with open(\"../2_Collect_data/Files/school_tables_collection\", \"rb\") as f:\n",
    "    school_tables_collection = pickle.load(f)"
   ]
  },
  {
   "cell_type": "code",
   "execution_count": 4,
   "metadata": {},
   "outputs": [
    {
     "data": {
      "text/plain": [
       "[(u'CP INF-PRI \"angel nieto\"_1', 0),\n",
       " (u'CP INF-PRI \"angel nieto\"_0', 0),\n",
       " (u'CP INF-PRI \"hortaleza\"_1', 0),\n",
       " (u'CP INF-PRI \"hortaleza\"_0', 0),\n",
       " (u'CP INF-PRI \"blas de lezo\"_1', 0),\n",
       " (u'CP INF-PRI \"alfredo di stefano\"_0', 0),\n",
       " (u'CP INF-PRI \"alfredo di stefano\"_1', 0)]"
      ]
     },
     "execution_count": 4,
     "metadata": {},
     "output_type": "execute_result"
    }
   ],
   "source": [
    "# Check schools without tables\n",
    "[(key, len(value)) for key, value in school_tables_collection.items() if len(value) == 0]"
   ]
  },
  {
   "cell_type": "code",
   "execution_count": 5,
   "metadata": {},
   "outputs": [],
   "source": [
    "# Extract keys, depending on the type of table\n",
    "regex = re.compile(\"_0$\")\n",
    "school_tables_collection_keys_0 = [key for key in school_tables_collection if regex.search(key)]\n",
    "school_tables_collection_keys_1 = [key for key in school_tables_collection if not regex.search(key)]"
   ]
  },
  {
   "cell_type": "code",
   "execution_count": 6,
   "metadata": {},
   "outputs": [],
   "source": [
    "# Split dictionary, depending on the type of table\n",
    "school_tables_collection_0 = {keys_0: school_tables_collection[keys_0] for keys_0 in school_tables_collection_keys_0}\n",
    "school_tables_collection_1 = {keys_1: school_tables_collection[keys_1] for keys_1 in school_tables_collection_keys_1}"
   ]
  },
  {
   "cell_type": "code",
   "execution_count": 7,
   "metadata": {
    "scrolled": true
   },
   "outputs": [
    {
     "name": "stdout",
     "output_type": "stream",
     "text": [
      "alfredo di stefano\n",
      "hortaleza\n",
      "blas de lezo\n",
      "angel nieto\n"
     ]
    }
   ],
   "source": [
    "# Create dataframe with number of students by year and school\n",
    "df_students = pd.DataFrame()\n",
    "\n",
    "for key, value in school_tables_collection_0.items():\n",
    "    try:\n",
    "        df_temp = value[0].iloc[2:3,1:]\n",
    "        df_temp.index = [key.split('\"')[1]]\n",
    "        df_students = df_students.append(df_temp)\n",
    "    except:\n",
    "        print key.split('\"')[1]\n",
    "        df_temp = pd.DataFrame(index = [key.split('\"')[1]])\n",
    "        df_students = df_students.append(df_temp)"
   ]
  },
  {
   "cell_type": "code",
   "execution_count": 8,
   "metadata": {},
   "outputs": [
    {
     "data": {
      "text/plain": [
       "(247, 6)"
      ]
     },
     "execution_count": 8,
     "metadata": {},
     "output_type": "execute_result"
    }
   ],
   "source": [
    "df_students.reset_index(inplace = True)\n",
    "df_students.columns.values[0] = 'key'\n",
    "df_students.shape"
   ]
  },
  {
   "cell_type": "code",
   "execution_count": 9,
   "metadata": {
    "scrolled": true
   },
   "outputs": [
    {
     "name": "stdout",
     "output_type": "stream",
     "text": [
      "hortaleza\n",
      "blas de lezo\n",
      "alfredo di stefano\n",
      "angel nieto\n"
     ]
    }
   ],
   "source": [
    "# Create dataframe with applications submitted/accepted by year and school\n",
    "df_enrollments = pd.DataFrame()\n",
    "\n",
    "for key, value in school_tables_collection_1.items():\n",
    "    try:\n",
    "        df_temp = value[0][:2]\n",
    "        df_temp.columns.values[0] = 'Status'\n",
    "        df_temp = df_temp.assign(Pivot = (1, 1))\n",
    "        df_temp = df_temp.pivot(index = \"Pivot\", columns = \"Status\")\n",
    "        df_temp.columns = df_temp.columns.map(\" \".join)\n",
    "        df_temp = df_temp.reset_index()\n",
    "        del df_temp[\"Pivot\"]\n",
    "        df_temp.index = [key.split('\"')[1]]\n",
    "        df_enrollments = df_enrollments.append(df_temp)\n",
    "    except:\n",
    "        print key.split('\"')[1]\n",
    "        df_temp = pd.DataFrame(index=[key.split('\"')[1]])\n",
    "        df_enrollments = df_enrollments.append(df_temp)"
   ]
  },
  {
   "cell_type": "code",
   "execution_count": 10,
   "metadata": {},
   "outputs": [
    {
     "data": {
      "text/plain": [
       "(247, 11)"
      ]
     },
     "execution_count": 10,
     "metadata": {},
     "output_type": "execute_result"
    }
   ],
   "source": [
    "df_enrollments.reset_index(inplace = True)\n",
    "df_enrollments.columns.values[0] = 'key'\n",
    "df_enrollments.shape"
   ]
  },
  {
   "cell_type": "code",
   "execution_count": 11,
   "metadata": {},
   "outputs": [],
   "source": [
    "df_community = pd.merge(df_students, df_enrollments, on = \"key\")"
   ]
  },
  {
   "cell_type": "code",
   "execution_count": 12,
   "metadata": {},
   "outputs": [],
   "source": [
    "df_cityhall = pd.read_csv(\"csv files/202311-0-colegios-publicos.csv\",\n",
    "                          delimiter = \";\",\n",
    "                          usecols = [1, 21, 24, 25],\n",
    "                          encoding = \"ISO-8859-1\")"
   ]
  },
  {
   "cell_type": "code",
   "execution_count": 13,
   "metadata": {},
   "outputs": [],
   "source": [
    "df_cityhall[\"NOMBRE\"] = df_cityhall[\"NOMBRE\"].str.replace(\"Colegio P\\xfablico \", \"\")\n",
    "df_cityhall = df_cityhall.assign(key = [unidecode(string) for string in df_cityhall[\"NOMBRE\"].values])\n",
    "df_cityhall[\"key\"] = df_cityhall[\"key\"].str.lower()\n",
    "df_cityhall[\"key\"] = df_cityhall[\"key\"].str.replace(\"(\", \"\")\n",
    "df_cityhall[\"key\"] = df_cityhall[\"key\"].str.replace(\")\", \"\")\n",
    "df_cityhall.columns = [\"Colegio\", \"Distrito\", \"Latitud\", \"Longitud\", \"key\"]"
   ]
  },
  {
   "cell_type": "code",
   "execution_count": 14,
   "metadata": {},
   "outputs": [
    {
     "name": "stderr",
     "output_type": "stream",
     "text": [
      "/home/giltrapo/.local/lib/python2.7/site-packages/ipykernel_launcher.py:3: SettingWithCopyWarning: \n",
      "A value is trying to be set on a copy of a slice from a DataFrame\n",
      "\n",
      "See the caveats in the documentation: http://pandas.pydata.org/pandas-docs/stable/indexing.html#indexing-view-versus-copy\n",
      "  This is separate from the ipykernel package so we can avoid doing imports until\n"
     ]
    }
   ],
   "source": [
    "for i, school in enumerate(df_cityhall[\"key\"]):\n",
    "    try:\n",
    "        df_cityhall[\"key\"][i] = difflib.get_close_matches(school, df_community[\"key\"], n = 1)[0]\n",
    "    except:\n",
    "        df_cityhall[\"key\"][i] = np.NaN[0]"
   ]
  },
  {
   "cell_type": "code",
   "execution_count": 15,
   "metadata": {},
   "outputs": [],
   "source": [
    "df_total = pd.merge(df_cityhall, df_community, on = \"key\", how = \"outer\")"
   ]
  },
  {
   "cell_type": "code",
   "execution_count": 16,
   "metadata": {},
   "outputs": [],
   "source": [
    "del df_total[\"key\"]"
   ]
  },
  {
   "cell_type": "code",
   "execution_count": 17,
   "metadata": {},
   "outputs": [],
   "source": [
    "df_total.to_csv(\"DataSchools.csv\", encoding='utf-8')"
   ]
  }
 ],
 "metadata": {
  "kernelspec": {
   "display_name": "Python 2",
   "language": "python",
   "name": "python2"
  },
  "language_info": {
   "codemirror_mode": {
    "name": "ipython",
    "version": 2
   },
   "file_extension": ".py",
   "mimetype": "text/x-python",
   "name": "python",
   "nbconvert_exporter": "python",
   "pygments_lexer": "ipython2",
   "version": "2.7.12"
  }
 },
 "nbformat": 4,
 "nbformat_minor": 2
}
