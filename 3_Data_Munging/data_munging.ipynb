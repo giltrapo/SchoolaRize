{
 "cells": [
  {
   "cell_type": "code",
   "execution_count": 1,
   "metadata": {},
   "outputs": [
    {
     "data": {
      "text/plain": [
       "u'/home/giltrapo/Master_Data_Science/TFM/3_Data_Munging'"
      ]
     },
     "execution_count": 1,
     "metadata": {},
     "output_type": "execute_result"
    }
   ],
   "source": [
    "% pwd"
   ]
  },
  {
   "cell_type": "code",
   "execution_count": 2,
   "metadata": {},
   "outputs": [],
   "source": [
    "import pandas as pd\n",
    "import numpy as np\n",
    "import pickle\n",
    "import re\n",
    "import difflib\n",
    "from unidecode import unidecode\n",
    "import os"
   ]
  },
  {
   "cell_type": "markdown",
   "metadata": {},
   "source": [
    "### Community of Madrid data munging"
   ]
  },
  {
   "cell_type": "code",
   "execution_count": 3,
   "metadata": {},
   "outputs": [],
   "source": [
    "# Load list of school codes.\n",
    "\n",
    "with open(\"../2_Collect_data/Files/school_tables_collection\", \"rb\") as f:\n",
    "    school_tables_collection = pickle.load(f)"
   ]
  },
  {
   "cell_type": "code",
   "execution_count": 4,
   "metadata": {},
   "outputs": [
    {
     "data": {
      "text/plain": [
       "[(u'CP INF-PRI \"angel nieto\"_1', 0),\n",
       " (u'CP INF-PRI \"angel nieto\"_0', 0),\n",
       " (u'CP INF-PRI \"hortaleza\"_1', 0),\n",
       " (u'CP INF-PRI \"hortaleza\"_0', 0),\n",
       " (u'CP INF-PRI \"blas de lezo\"_1', 0),\n",
       " (u'CP INF-PRI \"alfredo di stefano\"_0', 0),\n",
       " (u'CP INF-PRI \"alfredo di stefano\"_1', 0)]"
      ]
     },
     "execution_count": 4,
     "metadata": {},
     "output_type": "execute_result"
    }
   ],
   "source": [
    "# Check schools without tables.\n",
    "\n",
    "[(key, len(value)) for key, value in school_tables_collection.items() if len(value) == 0]"
   ]
  },
  {
   "cell_type": "code",
   "execution_count": 5,
   "metadata": {},
   "outputs": [],
   "source": [
    "# Extract keys, depending on the type of table.\n",
    "regex = re.compile(\"_0$\")\n",
    "school_tables_collection_keys_0 = \\\n",
    "    [key for key in school_tables_collection if regex.search(key)]\n",
    "school_tables_collection_keys_1 = \\\n",
    "    [key for key in school_tables_collection if not regex.search(key)]"
   ]
  },
  {
   "cell_type": "code",
   "execution_count": 6,
   "metadata": {},
   "outputs": [],
   "source": [
    "# Split dictionary, depending on the type of table.\n",
    "\n",
    "school_tables_collection_0 = \\\n",
    "    {keys_0: school_tables_collection[keys_0] for keys_0 in school_tables_collection_keys_0}\n",
    "school_tables_collection_1 = \\\n",
    "    {keys_1: school_tables_collection[keys_1] for keys_1 in school_tables_collection_keys_1}"
   ]
  },
  {
   "cell_type": "code",
   "execution_count": 7,
   "metadata": {
    "scrolled": true
   },
   "outputs": [
    {
     "name": "stdout",
     "output_type": "stream",
     "text": [
      "alfredo di stefano\n",
      "hortaleza\n",
      "blas de lezo\n",
      "angel nieto\n"
     ]
    }
   ],
   "source": [
    "# Create dataframe with number of students by year and school.\n",
    "\n",
    "df_students = pd.DataFrame()\n",
    "\n",
    "for key, value in school_tables_collection_0.items():\n",
    "    try:\n",
    "        df_temp = value[0].iloc[2:3,1:]\n",
    "        df_temp.index = [key.split('\"')[1]]\n",
    "        df_students = df_students.append(df_temp)\n",
    "    except:\n",
    "        print key.split('\"')[1]\n",
    "        df_temp = pd.DataFrame(index = [key.split('\"')[1]])\n",
    "        df_students = df_students.append(df_temp)"
   ]
  },
  {
   "cell_type": "code",
   "execution_count": 8,
   "metadata": {},
   "outputs": [
    {
     "data": {
      "text/plain": [
       "(247, 6)"
      ]
     },
     "execution_count": 8,
     "metadata": {},
     "output_type": "execute_result"
    }
   ],
   "source": [
    "df_students.reset_index(inplace = True)\n",
    "df_students.columns.values[0] = 'key'\n",
    "df_students.shape"
   ]
  },
  {
   "cell_type": "code",
   "execution_count": 9,
   "metadata": {
    "scrolled": true
   },
   "outputs": [
    {
     "name": "stdout",
     "output_type": "stream",
     "text": [
      "hortaleza\n",
      "blas de lezo\n",
      "alfredo di stefano\n",
      "angel nieto\n"
     ]
    }
   ],
   "source": [
    "# Create dataframe with applications submitted/accepted by year and school.\n",
    "\n",
    "df_enrollments = pd.DataFrame()\n",
    "\n",
    "for key, value in school_tables_collection_1.items():\n",
    "    try:\n",
    "        df_temp = value[0][:2]\n",
    "        df_temp.columns.values[0] = 'Status'\n",
    "        df_temp = df_temp.assign(Pivot = (1, 1))\n",
    "        df_temp = df_temp.pivot(index = \"Pivot\", columns = \"Status\")\n",
    "        df_temp.columns = df_temp.columns.map(\" \".join)\n",
    "        df_temp = df_temp.reset_index()\n",
    "        del df_temp[\"Pivot\"]\n",
    "        df_temp.index = [key.split('\"')[1]]\n",
    "        df_enrollments = df_enrollments.append(df_temp)\n",
    "    except:\n",
    "        print key.split('\"')[1]\n",
    "        df_temp = pd.DataFrame(index=[key.split('\"')[1]])\n",
    "        df_enrollments = df_enrollments.append(df_temp)"
   ]
  },
  {
   "cell_type": "code",
   "execution_count": 10,
   "metadata": {},
   "outputs": [
    {
     "data": {
      "text/plain": [
       "(247, 11)"
      ]
     },
     "execution_count": 10,
     "metadata": {},
     "output_type": "execute_result"
    }
   ],
   "source": [
    "df_enrollments.reset_index(inplace = True)\n",
    "df_enrollments.columns.values[0] = 'key'\n",
    "df_enrollments.shape"
   ]
  },
  {
   "cell_type": "code",
   "execution_count": 11,
   "metadata": {},
   "outputs": [
    {
     "data": {
      "text/plain": [
       "(247, 16)"
      ]
     },
     "execution_count": 11,
     "metadata": {},
     "output_type": "execute_result"
    }
   ],
   "source": [
    "# Merge number of students and applications dataframes.\n",
    "\n",
    "df_community = pd.merge(df_students, df_enrollments, on = \"key\")\n",
    "df_community.shape"
   ]
  },
  {
   "cell_type": "markdown",
   "metadata": {},
   "source": [
    "### City Hall data munging"
   ]
  },
  {
   "cell_type": "code",
   "execution_count": 12,
   "metadata": {},
   "outputs": [],
   "source": [
    "# Load City Hall file with geo-information about public primary schools.\n",
    "\n",
    "df_cityhall = pd.read_csv(\"csv_files/202311-0-colegios-publicos.csv\",\n",
    "                          delimiter = \";\",\n",
    "                          usecols = [1, 20, 21, 24, 25],\n",
    "                          encoding = \"ISO-8859-1\")"
   ]
  },
  {
   "cell_type": "code",
   "execution_count": 13,
   "metadata": {},
   "outputs": [],
   "source": [
    "df_cityhall[\"NOMBRE\"] = df_cityhall[\"NOMBRE\"].str.replace(\"Colegio P\\xfablico \", \"\")\n",
    "df_cityhall = df_cityhall.assign(key = \\\n",
    "                                 [unidecode(string) for string in df_cityhall[\"NOMBRE\"].values])\n",
    "df_cityhall[\"key\"] = df_cityhall[\"key\"].str.lower()\n",
    "df_cityhall[\"key\"] = df_cityhall[\"key\"].str.replace(\"(\", \"\")\n",
    "df_cityhall[\"key\"] = df_cityhall[\"key\"].str.replace(\")\", \"\")\n",
    "df_cityhall.columns = [\"Colegio\", \"Barrio\", \"Distrito\", \"Latitud\", \"Longitud\", \"key\"]\n",
    "df_cityhall[\"Colegio\"] = [item.encode(\"utf8\") for item in df_cityhall[\"Colegio\"]]\n",
    "df_cityhall[\"Barrio\"] = [item.encode(\"utf8\") for item in df_cityhall[\"Barrio\"]]\n",
    "df_cityhall[\"Distrito\"] = [item.encode(\"utf8\") for item in df_cityhall[\"Distrito\"]]"
   ]
  },
  {
   "cell_type": "code",
   "execution_count": 14,
   "metadata": {},
   "outputs": [],
   "source": [
    "# The school names in \"df_community\" do not exactly match school names on the City Hall file.\n",
    "# We will use \"difflib\" library to create a variable with the school name on \"df_community\"\n",
    "# that most resembles the school name on the City Hall file.\n",
    "\n",
    "for i, school in enumerate(df_cityhall[\"key\"]):\n",
    "    try:\n",
    "        df_cityhall.loc[i, \"key\"] = difflib.get_close_matches(school, df_community[\"key\"], \n",
    "                                                              n = 1)[0]\n",
    "    except:\n",
    "        df_cityhall.loc[i, \"key\"] = np.NaN[0]"
   ]
  },
  {
   "cell_type": "markdown",
   "metadata": {},
   "source": [
    "### Merging Community and City Hall data"
   ]
  },
  {
   "cell_type": "code",
   "execution_count": 15,
   "metadata": {},
   "outputs": [],
   "source": [
    "# Merge dataframes by school name\n",
    "\n",
    "df_schools = pd.merge(df_cityhall, df_community, on = \"key\", how = \"outer\")\n",
    "df_schools.loc[242:,\"Colegio\"] = [\"Alfredo di Stefano\",\n",
    "                                  \"República de Panamá nº 1\",\n",
    "                                  \"Concepción Arenal\",\n",
    "                                  \"Ángel Nieto\",\n",
    "                                  \"Plácido Domingo\"]\n",
    "df_schools.loc[242:,\"Barrio\"] = [\"VALDEFUENTES\",\n",
    "                                  \"ARCOS\",\n",
    "                                  \"COMILLAS\",\n",
    "                                  \"SANTA EUGENIA\",\n",
    "                                  \"ATOCHA\"]\n",
    "df_schools.loc[242:,\"Distrito\"] = [\"HORTALEZA\",\n",
    "                                  \"SAN BLAS-CANILLEJAS\",\n",
    "                                  \"CARABANCHEL\",\n",
    "                                  \"VILLA DE VALLECAS\",\n",
    "                                  \"ARGANZUELA\"]\n",
    "del df_schools[\"key\"]"
   ]
  },
  {
   "cell_type": "markdown",
   "metadata": {},
   "source": [
    "### Municipal register data munging"
   ]
  },
  {
   "cell_type": "code",
   "execution_count": 16,
   "metadata": {},
   "outputs": [],
   "source": [
    "# The enrollment process begins in May, so we will select children with ages between 5 and 11\n",
    "# at that time. In addition, since there are only data on the City Hall's website until 2014,\n",
    "# the data for 2013 and 2012 will be projected from the file of 2014, choosing an age range\n",
    "# of 6 to 12 for 2013 and 7 to 13 for 2012.\n",
    "\n",
    "files = [\"csv_files/\" + f for f in os.listdir(\"csv_files/\") if f.startswith(\"Rango\")]\n",
    "files.sort()"
   ]
  },
  {
   "cell_type": "code",
   "execution_count": 17,
   "metadata": {
    "scrolled": true
   },
   "outputs": [],
   "source": [
    "df_population_primary = df_temp = pd.read_csv(\"csv_files/Rango_Edades_Seccion_201405.csv\",\n",
    "                                              delimiter = \";\")\n",
    "df_population_primary = df_population_primary.groupby([\"DESC_DISTRITO\", \"DESC_BARRIO\"])\\\n",
    "                                             .count().reset_index()\\\n",
    "                                             .iloc[:,[0,1]]\n",
    "\n",
    "for file in files:\n",
    "    if file[31:35] == \"2014\":\n",
    "        year = 2012\n",
    "        lim_inf = 6\n",
    "        lim_sup = 14\n",
    "        while (year < 2015):\n",
    "            df_temp = pd.read_csv(file, delimiter = \";\")\n",
    "            df_temp = df_temp[(df_temp[\"COD_EDAD_INT\"] > lim_inf) & \n",
    "                              (df_temp[\"COD_EDAD_INT\"] < lim_sup)]\n",
    "            df_temp[year] = df_temp.fillna(0)[\"EspanolesHombres\"] +\\\n",
    "                            df_temp.fillna(0)[\"EspanolesMujeres\"] +\\\n",
    "                            df_temp.fillna(0)[\"ExtranjerosHombres\"] +\\\n",
    "                            df_temp.fillna(0)[\"ExtranjerosMujeres\"]\n",
    "            df_temp = df_temp.groupby([\"DESC_DISTRITO\", \"DESC_BARRIO\"])[year]\\\n",
    "                             .sum()\\\n",
    "                             .reset_index()\\\n",
    "                             .sort_values(\"DESC_DISTRITO\")\n",
    "            df_population_primary = pd.merge(df_population_primary, \n",
    "                                             df_temp, \n",
    "                                             on = [\"DESC_DISTRITO\", \"DESC_BARRIO\"], \n",
    "                                             how = \"outer\")\n",
    "            year = year + 1\n",
    "            lim_inf = lim_inf - 1\n",
    "            lim_sup = lim_sup -1\n",
    "            \n",
    "    else:\n",
    "        year = file[31:35]\n",
    "        df_temp = pd.read_csv(file, delimiter = \";\", encoding = \"ISO-8859-1\")\n",
    "        df_temp = df_temp[(df_temp[\"COD_EDAD_INT\"] > 4) & (df_temp[\"COD_EDAD_INT\"] < 12)]\n",
    "        df_temp[year] = df_temp.fillna(0)[\"EspanolesHombres\"] +\\\n",
    "                        df_temp.fillna(0)[\"EspanolesMujeres\"] +\\\n",
    "                        df_temp.fillna(0)[\"ExtranjerosHombres\"] +\\\n",
    "                        df_temp.fillna(0)[\"ExtranjerosMujeres\"]\n",
    "        df_temp = df_temp.groupby([\"DESC_DISTRITO\", \"DESC_BARRIO\"])[year]\\\n",
    "                         .sum()\\\n",
    "                         .reset_index()\\\n",
    "                         .sort_values([\"DESC_DISTRITO\", \"DESC_BARRIO\"])\n",
    "        df_temp[\"DESC_DISTRITO\"] = [item.encode(\"utf8\") for item in df_temp[\"DESC_DISTRITO\"]]\n",
    "        df_temp[\"DESC_BARRIO\"] = [item.encode(\"utf8\") for item in df_temp[\"DESC_BARRIO\"]]\n",
    "        df_population_primary = pd.merge(df_population_primary, \n",
    "                                         df_temp, \n",
    "                                         on = [\"DESC_DISTRITO\", \"DESC_BARRIO\"], \n",
    "                                         how = \"outer\")"
   ]
  },
  {
   "cell_type": "code",
   "execution_count": 18,
   "metadata": {
    "scrolled": false
   },
   "outputs": [],
   "source": [
    "df_population_primary[\"DESC_DISTRITO\"] = \\\n",
    "    [item.strip() for item in df_population_primary[\"DESC_DISTRITO\"]]\n",
    "df_population_primary[\"DESC_BARRIO\"] = \\\n",
    "    [item.strip() for item in df_population_primary[\"DESC_BARRIO\"]]"
   ]
  },
  {
   "cell_type": "markdown",
   "metadata": {},
   "source": [
    "### Merging all dataframes"
   ]
  },
  {
   "cell_type": "code",
   "execution_count": 19,
   "metadata": {},
   "outputs": [],
   "source": [
    "df_total = pd.merge(df_schools,\n",
    "                    df_population_primary,\n",
    "                    left_on = [\"Distrito\", \"Barrio\"],\n",
    "                    right_on = [\"DESC_DISTRITO\", \"DESC_BARRIO\"])"
   ]
  },
  {
   "cell_type": "code",
   "execution_count": 20,
   "metadata": {},
   "outputs": [],
   "source": [
    "del df_total[\"DESC_BARRIO\"]\n",
    "del df_total[\"DESC_DISTRITO\"]"
   ]
  },
  {
   "cell_type": "code",
   "execution_count": 21,
   "metadata": {},
   "outputs": [],
   "source": [
    "df_total.columns = ['Colegio',\n",
    "                    'Barrio',\n",
    "                    'Distrito',\n",
    "                    'Latitud',\n",
    "                    'Longitud',\n",
    "                    'Alumnos Primaria 2012-2013',\n",
    "                    'Alumnos Primaria 2013-2014',\n",
    "                    'Alumnos Primaria 2014-2015',\n",
    "                    'Alumnos Primaria 2015-2016',\n",
    "                    'Alumnos Primaria 2016-2017',\n",
    "                    'Admisiones 2012-2013',\n",
    "                    'Solicitudes 2012-2013',\n",
    "                    'Admisiones 2013-2014',\n",
    "                    'Solicitudes 2013-2014',\n",
    "                    'Admisiones 2014-2015',\n",
    "                    'Solicitudes 2014-2015',\n",
    "                    'Admisiones 2015-2016',\n",
    "                    'Solicitudes 2015-2016',\n",
    "                    'Admisiones 2016-2017',\n",
    "                    'Solicitudes 2016-2017',\n",
    "                    'Población Primaria 2012-2013',\n",
    "                    'Población Primaria 2013-2014',\n",
    "                    'Población Primaria 2014-2015',\n",
    "                    'Población Primaria 2015-2016',\n",
    "                    'Población Primaria 2016-2017',\n",
    "                    'Población Primaria 2017-2018']"
   ]
  },
  {
   "cell_type": "code",
   "execution_count": 22,
   "metadata": {},
   "outputs": [],
   "source": [
    "df_total.to_csv(\"csv_files/DataSchools.csv\", encoding = \"utf-8\")"
   ]
  },
  {
   "cell_type": "code",
   "execution_count": null,
   "metadata": {},
   "outputs": [],
   "source": [
    "cols = ['Colegio',\n",
    "        'Barrio',\n",
    "        'Distrito',\n",
    "        'Latitud',\n",
    "        'Longitud',\n",
    "        'Población Primaria 2012-2013',\n",
    "        'Alumnos Primaria 2012-2013',\n",
    "        'Solicitudes 2012-2013',\n",
    "        'Admisiones 2012-2013',\n",
    "        'Población Primaria 2013-2014',\n",
    "        'Alumnos Primaria 2013-2014',\n",
    "        'Solicitudes 2013-2014',\n",
    "        'Admisiones 2013-2014',\n",
    "        'Población Primaria 2014-2015',\n",
    "        'Alumnos Primaria 2014-2015',\n",
    "        'Solicitudes 2014-2015',\n",
    "        'Admisiones 2014-2015',\n",
    "        'Población Primaria 2015-2016',\n",
    "        'Alumnos Primaria 2015-2016',\n",
    "        'Solicitudes 2015-2016',\n",
    "        'Admisiones 2015-2016',\n",
    "        'Población Primaria 2016-2017',\n",
    "        'Alumnos Primaria 2016-2017',\n",
    "        'Solicitudes 2016-2017',\n",
    "        'Admisiones 2016-2017',\n",
    "        'Población Primaria 2017-2018']"
   ]
  },
  {
   "cell_type": "code",
   "execution_count": null,
   "metadata": {},
   "outputs": [],
   "source": [
    "df_total = df_total[cols]"
   ]
  }
 ],
 "metadata": {
  "kernelspec": {
   "display_name": "Python 2",
   "language": "python",
   "name": "python2"
  },
  "language_info": {
   "codemirror_mode": {
    "name": "ipython",
    "version": 2
   },
   "file_extension": ".py",
   "mimetype": "text/x-python",
   "name": "python",
   "nbconvert_exporter": "python",
   "pygments_lexer": "ipython2",
   "version": "2.7.12"
  }
 },
 "nbformat": 4,
 "nbformat_minor": 2
}
