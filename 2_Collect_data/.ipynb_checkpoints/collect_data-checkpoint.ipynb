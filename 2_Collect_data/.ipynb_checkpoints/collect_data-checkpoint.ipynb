{
 "cells": [
  {
   "cell_type": "markdown",
   "metadata": {},
   "source": [
    "### Collect codes of public elementary schools in municipality of Madrid."
   ]
  },
  {
   "cell_type": "code",
   "execution_count": null,
   "metadata": {},
   "outputs": [],
   "source": [
    "import re\n",
    "import requests\n",
    "from bs4 import BeautifulSoup\n",
    "import pandas as pd\n",
    "import pickle\n",
    "import dryscrape\n",
    "from time import sleep\n",
    "from random import randint"
   ]
  },
  {
   "cell_type": "code",
   "execution_count": null,
   "metadata": {},
   "outputs": [],
   "source": [
    "# Url to perform advanced searches.\n",
    "url_advsearch = \"http://www.madrid.org/wpad_pub/run/j/BusquedaAvanzada.icm\""
   ]
  },
  {
   "cell_type": "code",
   "execution_count": null,
   "metadata": {},
   "outputs": [],
   "source": [
    "# Parameter for searching public primary schools in municipality of Madrid\n",
    "params = {\"titularidadPublica\": \"S\", \"cdMuni\": \"079\", \"cdNivelEdu\": \"6545\"}"
   ]
  },
  {
   "cell_type": "code",
   "execution_count": null,
   "metadata": {},
   "outputs": [],
   "source": [
    "# Request and parse list of schools.\n",
    "schools = BeautifulSoup(requests.post(url_advsearch, data = params).content, \"lxml\")"
   ]
  },
  {
   "cell_type": "code",
   "execution_count": null,
   "metadata": {},
   "outputs": [],
   "source": [
    "# Extract list of school codes.\n",
    "school_codes = schools.findAll(attrs = {\"name\": \"codCentrosExp\", \"value\": re.compile(\"^.+$\")})[0][\"value\"]"
   ]
  },
  {
   "cell_type": "code",
   "execution_count": null,
   "metadata": {},
   "outputs": [],
   "source": [
    "# Convert from string to list.\n",
    "school_codes = school_codes.split(\";\")\n",
    "\n",
    "# Check codes.\n",
    "# 247 it's ok.\n",
    "print len(school_codes)"
   ]
  },
  {
   "cell_type": "code",
   "execution_count": null,
   "metadata": {},
   "outputs": [],
   "source": [
    "# Save list of school codes\n",
    "with open(\"school_codes.txt\", \"wb\") as f:\n",
    "    pickle.dump(school_codes, f)"
   ]
  },
  {
   "cell_type": "code",
   "execution_count": null,
   "metadata": {},
   "outputs": [],
   "source": [
    "# Load list of school codes\n",
    "#with open(\"school_codes.txt\", \"rb\") as f:\n",
    "#    school_codes = pickle.load(f)"
   ]
  },
  {
   "cell_type": "markdown",
   "metadata": {},
   "source": [
    "### Extract tables from school cards."
   ]
  },
  {
   "cell_type": "code",
   "execution_count": null,
   "metadata": {},
   "outputs": [],
   "source": [
    "# School card url.\n",
    "url_schoolcard = \"http://www.madrid.org/wpad_pub/run/j/MostrarFichaCentro.icm\"\n",
    "\n",
    "# School code parameter.\n",
    "school_code_par = \"cdCentro=\"\n",
    "\n",
    "# List of schools urls\n",
    "schools_urls = [url_schoolcard + \"?\" + school_code_par + code for code in school_codes]"
   ]
  },
  {
   "cell_type": "code",
   "execution_count": null,
   "metadata": {},
   "outputs": [],
   "source": [
    "# Collect data.\n",
    "\n",
    "school_tables_collection = {}\n",
    "sts = 0\n",
    "nsts = 0\n",
    "\n",
    "for z, school in enumerate(schools_urls):\n",
    "    try:\n",
    "        render = dryscrape.Session()\n",
    "        render.visit(school)\n",
    "        render.exec_script('document.getElementById(\"nivEd12.grafica3\").click();')\n",
    "        source = render.body()\n",
    "        school_card = BeautifulSoup(source, \"lxml\")\n",
    "        school_tables = school_card.findAll('table', class_=\"tablaGraficaDatos\")\n",
    "        school_name = school_card.find(style=\"text-transform:uppercase\").next.next\n",
    "        for i, table in list(enumerate(school_tables)):\n",
    "            if i <= 1:\n",
    "                school_tables_collection[school_name + \"_\" + str(i)] = pd.read_html(table.prettify())\n",
    "        sts += 1\n",
    "        !echo \"Tables of school {schools_urls[z]} extracted\" >> scrape_log.txt\n",
    "        print '{0}\\r'.format(\"Schools with statistics: %i, Schools without statistics: %i, Total: %i\" % (sts, nsts, sts + nsts)),\n",
    "        render.reset()\n",
    "        sleep(randint(1, 4))\n",
    "    except:\n",
    "        nsts += 1\n",
    "        !echo \"School {schools_urls[z]} doesn't have statistics\" >> scrape_log.txt\n",
    "        print '{0}\\r'.format(\"Schools with statistics: %i, Schools without statistics: %i, Total: %i\" % (sts, nsts, sts + nsts)),\n",
    "        sleep(randint(1, 4))"
   ]
  },
  {
   "cell_type": "code",
   "execution_count": null,
   "metadata": {},
   "outputs": [],
   "source": [
    "# Save dictionary with tables\n",
    "with open(\"school_tables_collection.txt\", \"wb\") as f:\n",
    "    pickle.dump(school_tables_collection, f, protocol=pickle.HIGHEST_PROTOCOL)"
   ]
  }
 ],
 "metadata": {
  "kernelspec": {
   "display_name": "Python 2",
   "language": "python",
   "name": "python2"
  },
  "language_info": {
   "codemirror_mode": {
    "name": "ipython",
    "version": 2
   },
   "file_extension": ".py",
   "mimetype": "text/x-python",
   "name": "python",
   "nbconvert_exporter": "python",
   "pygments_lexer": "ipython2",
   "version": "2.7.12"
  }
 },
 "nbformat": 4,
 "nbformat_minor": 2
}
