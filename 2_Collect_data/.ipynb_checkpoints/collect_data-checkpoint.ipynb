{
 "cells": [
  {
   "cell_type": "code",
   "execution_count": 1,
   "metadata": {},
   "outputs": [
    {
     "name": "stdout",
     "output_type": "stream",
     "text": [
      "/home/giltrapo/Master_Data_Science/TFM/2_Collect_data\n"
     ]
    },
    {
     "data": {
      "text/plain": [
       "u'/home/giltrapo/Master_Data_Science/TFM/2_Collect_data'"
      ]
     },
     "execution_count": 1,
     "metadata": {},
     "output_type": "execute_result"
    }
   ],
   "source": [
    "% cd ~/Master_Data_Science/TFM/2_Collect_data/\n",
    "% pwd"
   ]
  },
  {
   "cell_type": "markdown",
   "metadata": {},
   "source": [
    "### Collect codes of public elementary schools in municipality of Madrid."
   ]
  },
  {
   "cell_type": "code",
   "execution_count": 2,
   "metadata": {},
   "outputs": [],
   "source": [
    "import re\n",
    "import requests\n",
    "from bs4 import BeautifulSoup\n",
    "import pandas as pd\n",
    "import pickle"
   ]
  },
  {
   "cell_type": "code",
   "execution_count": 3,
   "metadata": {},
   "outputs": [],
   "source": [
    "# Url to perform advanced searches.\n",
    "url_advsearch = \"http://www.madrid.org/wpad_pub/run/j/BusquedaAvanzada.icm\""
   ]
  },
  {
   "cell_type": "code",
   "execution_count": 4,
   "metadata": {},
   "outputs": [],
   "source": [
    "# Parameter for searching public primary schools in municipality of Madrid\n",
    "params = {\"titularidadPublica\": \"S\", \"cdMuni\": \"079\", \"cdNivelEdu\": \"6545\"}"
   ]
  },
  {
   "cell_type": "code",
   "execution_count": 5,
   "metadata": {},
   "outputs": [],
   "source": [
    "# Request and parse list of schools.\n",
    "schools = BeautifulSoup(requests.post(url_advsearch, data = params).content, \"lxml\")"
   ]
  },
  {
   "cell_type": "code",
   "execution_count": 6,
   "metadata": {},
   "outputs": [],
   "source": [
    "# Extract list of school codes.\n",
    "school_codes = schools.findAll(attrs = {\"name\": \"codCentrosExp\", \"value\": re.compile(\"^.+$\")})[0][\"value\"]"
   ]
  },
  {
   "cell_type": "code",
   "execution_count": 7,
   "metadata": {},
   "outputs": [
    {
     "name": "stdout",
     "output_type": "stream",
     "text": [
      "247\n"
     ]
    }
   ],
   "source": [
    "# Convert from string to list.\n",
    "school_codes = school_codes.split(\";\")\n",
    "\n",
    "# Check codes.\n",
    "# 247 it's ok.\n",
    "print len(school_codes)"
   ]
  },
  {
   "cell_type": "code",
   "execution_count": 8,
   "metadata": {},
   "outputs": [],
   "source": [
    "# Save the list of school codes\n",
    "with open(\"school_codes.txt\", \"wb\") as f:\n",
    "    pickle.dump(school_codes, f)"
   ]
  },
  {
   "cell_type": "code",
   "execution_count": 9,
   "metadata": {},
   "outputs": [],
   "source": [
    "# open list of school codes\n",
    "with open(\"school_codes.txt\", \"rb\") as f:\n",
    "    school_codes = pickle.load(f)"
   ]
  },
  {
   "cell_type": "markdown",
   "metadata": {},
   "source": [
    "### Extract tables from school cards."
   ]
  },
  {
   "cell_type": "code",
   "execution_count": 10,
   "metadata": {},
   "outputs": [],
   "source": [
    "# The data that we want to obtain from each school is contained in tables,\n",
    "# whose content is generated on-the-fly through JavaScript code.\n",
    "# We can't use 'request' library again because only fetch source code of\n",
    "# the web page but it doesn't run code. So we need to mimic the rendering\n",
    "# process of a browser. Let's use dryscrape\n",
    "\n",
    "import dryscrape"
   ]
  },
  {
   "cell_type": "code",
   "execution_count": 11,
   "metadata": {},
   "outputs": [],
   "source": [
    "# School card url.\n",
    "url_schoolcard = \"http://www.madrid.org/wpad_pub/run/j/MostrarFichaCentro.icm\"\n",
    "\n",
    "# School code parameter.\n",
    "school_code_par = \"cdCentro=\"\n",
    "\n",
    "# List of schools urls\n",
    "schools_urls = [url_schoolcard + \"?\" + school_code_par + code for code in school_codes]"
   ]
  },
  {
   "cell_type": "code",
   "execution_count": 12,
   "metadata": {},
   "outputs": [
    {
     "data": {
      "text/plain": [
       "[  PROCESO DE ADMISIÓN (solicitudes presentadas, admitidas, no admitidas)  \\\n",
       " 0                                        Presentadas                       \n",
       " 1                                          Admitidas                       \n",
       " 2                                       No admitidas                       \n",
       " \n",
       "    2012-2013  2013-2014  2014-2015  2015-2016  2016-2017  \n",
       " 0        103         93         74         71         64  \n",
       " 1         95         89         74         67         63  \n",
       " 2          8          4          0          4          1  ]"
      ]
     },
     "execution_count": 12,
     "metadata": {},
     "output_type": "execute_result"
    }
   ],
   "source": [
    "# Check with a single url.\n",
    "\n",
    "render = dryscrape.Session()\n",
    "render.visit(\"http://www.madrid.org/wpad_pub/run/j/MostrarFichaCentro.icm?cdCentro=28063799\")\n",
    "source = render.body()\n",
    "school_card = BeautifulSoup(source, \"lxml\")\n",
    "school_tables = school_card.findAll('table', class_=\"tablaGraficaDatos\")\n",
    "\n",
    "table = list(school_tables)[1]\n",
    "pd.read_html(table.prettify())"
   ]
  },
  {
   "cell_type": "code",
   "execution_count": 13,
   "metadata": {},
   "outputs": [
    {
     "data": {
      "text/plain": [
       "bs4.element.Tag"
      ]
     },
     "execution_count": 13,
     "metadata": {},
     "output_type": "execute_result"
    }
   ],
   "source": [
    "type(table)"
   ]
  },
  {
   "cell_type": "code",
   "execution_count": 14,
   "metadata": {},
   "outputs": [
    {
     "ename": "InvalidResponseError",
     "evalue": "{\"class\":\"ClickFailed\",\"message\":\"Failed to find position for element /html/body/div[@id='contenedor']/div[@id='solapas']/div[10]/table/tbody/tr[1]/td[1]/div[@id='solapaspanel1']/div[@id='cuerpoL']/div/div[@id='capaSelGrafica']/div[@id='display.grafica3']/table/tbody/tr[2]/td[2]/input[@id='nivEd12.grafica3'] because it is not visible\"}",
     "output_type": "error",
     "traceback": [
      "\u001b[0;31m---------------------------------------------------------------------------\u001b[0m",
      "\u001b[0;31mInvalidResponseError\u001b[0m                      Traceback (most recent call last)",
      "\u001b[0;32m<ipython-input-14-016aabef5941>\u001b[0m in \u001b[0;36m<module>\u001b[0;34m()\u001b[0m\n\u001b[1;32m      6\u001b[0m \u001b[0mrender\u001b[0m\u001b[0;34m.\u001b[0m\u001b[0mvisit\u001b[0m\u001b[0;34m(\u001b[0m\u001b[0;34m\"http://www.madrid.org/wpad_pub/run/j/MostrarFichaCentro.icm?cdCentro=28063799\"\u001b[0m\u001b[0;34m)\u001b[0m\u001b[0;34m\u001b[0m\u001b[0m\n\u001b[1;32m      7\u001b[0m \u001b[0mradiob\u001b[0m \u001b[0;34m=\u001b[0m \u001b[0mrender\u001b[0m\u001b[0;34m.\u001b[0m\u001b[0mat_css\u001b[0m\u001b[0;34m(\u001b[0m\u001b[0;34m'#nivEd12\\.grafica3'\u001b[0m\u001b[0;34m)\u001b[0m\u001b[0;34m\u001b[0m\u001b[0m\n\u001b[0;32m----> 8\u001b[0;31m \u001b[0mradiob\u001b[0m\u001b[0;34m.\u001b[0m\u001b[0mclick\u001b[0m\u001b[0;34m(\u001b[0m\u001b[0;34m)\u001b[0m\u001b[0;34m\u001b[0m\u001b[0m\n\u001b[0m\u001b[1;32m      9\u001b[0m \u001b[0msource\u001b[0m \u001b[0;34m=\u001b[0m \u001b[0mrender\u001b[0m\u001b[0;34m.\u001b[0m\u001b[0mbody\u001b[0m\u001b[0;34m(\u001b[0m\u001b[0;34m)\u001b[0m\u001b[0;34m\u001b[0m\u001b[0m\n\u001b[1;32m     10\u001b[0m \u001b[0mschool_card\u001b[0m \u001b[0;34m=\u001b[0m \u001b[0mBeautifulSoup\u001b[0m\u001b[0;34m(\u001b[0m\u001b[0msource\u001b[0m\u001b[0;34m,\u001b[0m \u001b[0;34m\"lxml\"\u001b[0m\u001b[0;34m)\u001b[0m\u001b[0;34m\u001b[0m\u001b[0m\n",
      "\u001b[0;32m/home/giltrapo/.local/lib/python2.7/site-packages/webkit_server.pyc\u001b[0m in \u001b[0;36mclick\u001b[0;34m(self)\u001b[0m\n\u001b[1;32m    127\u001b[0m   \u001b[0;32mdef\u001b[0m \u001b[0mclick\u001b[0m\u001b[0;34m(\u001b[0m\u001b[0mself\u001b[0m\u001b[0;34m)\u001b[0m\u001b[0;34m:\u001b[0m\u001b[0;34m\u001b[0m\u001b[0m\n\u001b[1;32m    128\u001b[0m     \u001b[0;34m\"\"\" Alias for ``left_click``. \"\"\"\u001b[0m\u001b[0;34m\u001b[0m\u001b[0m\n\u001b[0;32m--> 129\u001b[0;31m     \u001b[0mself\u001b[0m\u001b[0;34m.\u001b[0m\u001b[0mleft_click\u001b[0m\u001b[0;34m(\u001b[0m\u001b[0;34m)\u001b[0m\u001b[0;34m\u001b[0m\u001b[0m\n\u001b[0m\u001b[1;32m    130\u001b[0m \u001b[0;34m\u001b[0m\u001b[0m\n\u001b[1;32m    131\u001b[0m   \u001b[0;32mdef\u001b[0m \u001b[0mleft_click\u001b[0m\u001b[0;34m(\u001b[0m\u001b[0mself\u001b[0m\u001b[0;34m)\u001b[0m\u001b[0;34m:\u001b[0m\u001b[0;34m\u001b[0m\u001b[0m\n",
      "\u001b[0;32m/home/giltrapo/.local/lib/python2.7/site-packages/webkit_server.pyc\u001b[0m in \u001b[0;36mleft_click\u001b[0;34m(self)\u001b[0m\n\u001b[1;32m    132\u001b[0m     \"\"\" Left clicks the current node, then waits for the page\n\u001b[1;32m    133\u001b[0m     to fully load. \"\"\"\n\u001b[0;32m--> 134\u001b[0;31m     \u001b[0mself\u001b[0m\u001b[0;34m.\u001b[0m\u001b[0m_invoke\u001b[0m\u001b[0;34m(\u001b[0m\u001b[0;34m\"leftClick\"\u001b[0m\u001b[0;34m)\u001b[0m\u001b[0;34m\u001b[0m\u001b[0m\n\u001b[0m\u001b[1;32m    135\u001b[0m \u001b[0;34m\u001b[0m\u001b[0m\n\u001b[1;32m    136\u001b[0m   \u001b[0;32mdef\u001b[0m \u001b[0mright_click\u001b[0m\u001b[0;34m(\u001b[0m\u001b[0mself\u001b[0m\u001b[0;34m)\u001b[0m\u001b[0;34m:\u001b[0m\u001b[0;34m\u001b[0m\u001b[0m\n",
      "\u001b[0;32m/home/giltrapo/.local/lib/python2.7/site-packages/webkit_server.pyc\u001b[0m in \u001b[0;36m_invoke\u001b[0;34m(self, cmd, *args)\u001b[0m\n\u001b[1;32m    205\u001b[0m \u001b[0;34m\u001b[0m\u001b[0m\n\u001b[1;32m    206\u001b[0m   \u001b[0;32mdef\u001b[0m \u001b[0m_invoke\u001b[0m\u001b[0;34m(\u001b[0m\u001b[0mself\u001b[0m\u001b[0;34m,\u001b[0m \u001b[0mcmd\u001b[0m\u001b[0;34m,\u001b[0m \u001b[0;34m*\u001b[0m\u001b[0margs\u001b[0m\u001b[0;34m)\u001b[0m\u001b[0;34m:\u001b[0m\u001b[0;34m\u001b[0m\u001b[0m\n\u001b[0;32m--> 207\u001b[0;31m     \u001b[0;32mreturn\u001b[0m \u001b[0mself\u001b[0m\u001b[0;34m.\u001b[0m\u001b[0mclient\u001b[0m\u001b[0;34m.\u001b[0m\u001b[0missue_node_cmd\u001b[0m\u001b[0;34m(\u001b[0m\u001b[0mcmd\u001b[0m\u001b[0;34m,\u001b[0m \u001b[0;34m\"false\"\u001b[0m\u001b[0;34m,\u001b[0m \u001b[0mself\u001b[0m\u001b[0;34m.\u001b[0m\u001b[0mnode_id\u001b[0m\u001b[0;34m,\u001b[0m \u001b[0;34m*\u001b[0m\u001b[0margs\u001b[0m\u001b[0;34m)\u001b[0m\u001b[0;34m\u001b[0m\u001b[0m\n\u001b[0m\u001b[1;32m    208\u001b[0m \u001b[0;34m\u001b[0m\u001b[0m\n\u001b[1;32m    209\u001b[0m \u001b[0;34m\u001b[0m\u001b[0m\n",
      "\u001b[0;32m/home/giltrapo/.local/lib/python2.7/site-packages/webkit_server.pyc\u001b[0m in \u001b[0;36missue_node_cmd\u001b[0;34m(self, *args)\u001b[0m\n\u001b[1;32m    375\u001b[0m   \u001b[0;32mdef\u001b[0m \u001b[0missue_node_cmd\u001b[0m\u001b[0;34m(\u001b[0m\u001b[0mself\u001b[0m\u001b[0;34m,\u001b[0m \u001b[0;34m*\u001b[0m\u001b[0margs\u001b[0m\u001b[0;34m)\u001b[0m\u001b[0;34m:\u001b[0m\u001b[0;34m\u001b[0m\u001b[0m\n\u001b[1;32m    376\u001b[0m     \u001b[0;34m\"\"\" Issues a node-specific command. \"\"\"\u001b[0m\u001b[0;34m\u001b[0m\u001b[0m\n\u001b[0;32m--> 377\u001b[0;31m     \u001b[0;32mreturn\u001b[0m \u001b[0mself\u001b[0m\u001b[0;34m.\u001b[0m\u001b[0mconn\u001b[0m\u001b[0;34m.\u001b[0m\u001b[0missue_command\u001b[0m\u001b[0;34m(\u001b[0m\u001b[0;34m\"Node\"\u001b[0m\u001b[0;34m,\u001b[0m \u001b[0;34m*\u001b[0m\u001b[0margs\u001b[0m\u001b[0;34m)\u001b[0m\u001b[0;34m\u001b[0m\u001b[0m\n\u001b[0m\u001b[1;32m    378\u001b[0m \u001b[0;34m\u001b[0m\u001b[0m\n\u001b[1;32m    379\u001b[0m   \u001b[0;32mdef\u001b[0m \u001b[0mget_node_factory\u001b[0m\u001b[0;34m(\u001b[0m\u001b[0mself\u001b[0m\u001b[0;34m)\u001b[0m\u001b[0;34m:\u001b[0m\u001b[0;34m\u001b[0m\u001b[0m\n",
      "\u001b[0;32m/home/giltrapo/.local/lib/python2.7/site-packages/webkit_server.pyc\u001b[0m in \u001b[0;36missue_command\u001b[0;34m(self, cmd, *args)\u001b[0m\n\u001b[1;32m    518\u001b[0m       \u001b[0mself\u001b[0m\u001b[0;34m.\u001b[0m\u001b[0m_sock\u001b[0m\u001b[0;34m.\u001b[0m\u001b[0msendall\u001b[0m\u001b[0;34m(\u001b[0m\u001b[0marg\u001b[0m\u001b[0;34m.\u001b[0m\u001b[0mencode\u001b[0m\u001b[0;34m(\u001b[0m\u001b[0;34m\"utf-8\"\u001b[0m\u001b[0;34m)\u001b[0m\u001b[0;34m)\u001b[0m\u001b[0;34m\u001b[0m\u001b[0m\n\u001b[1;32m    519\u001b[0m \u001b[0;34m\u001b[0m\u001b[0m\n\u001b[0;32m--> 520\u001b[0;31m     \u001b[0;32mreturn\u001b[0m \u001b[0mself\u001b[0m\u001b[0;34m.\u001b[0m\u001b[0m_read_response\u001b[0m\u001b[0;34m(\u001b[0m\u001b[0;34m)\u001b[0m\u001b[0;34m\u001b[0m\u001b[0m\n\u001b[0m\u001b[1;32m    521\u001b[0m \u001b[0;34m\u001b[0m\u001b[0m\n\u001b[1;32m    522\u001b[0m   \u001b[0;32mdef\u001b[0m \u001b[0m_read_response\u001b[0m\u001b[0;34m(\u001b[0m\u001b[0mself\u001b[0m\u001b[0;34m)\u001b[0m\u001b[0;34m:\u001b[0m\u001b[0;34m\u001b[0m\u001b[0m\n",
      "\u001b[0;32m/home/giltrapo/.local/lib/python2.7/site-packages/webkit_server.pyc\u001b[0m in \u001b[0;36m_read_response\u001b[0;34m(self)\u001b[0m\n\u001b[1;32m    528\u001b[0m     \u001b[0mmsg\u001b[0m \u001b[0;34m=\u001b[0m \u001b[0mself\u001b[0m\u001b[0;34m.\u001b[0m\u001b[0m_read_message\u001b[0m\u001b[0;34m(\u001b[0m\u001b[0;34m)\u001b[0m\u001b[0;34m\u001b[0m\u001b[0m\n\u001b[1;32m    529\u001b[0m     \u001b[0;32mif\u001b[0m \u001b[0mresult\u001b[0m \u001b[0;34m!=\u001b[0m \u001b[0;34m\"ok\"\u001b[0m\u001b[0;34m:\u001b[0m\u001b[0;34m\u001b[0m\u001b[0m\n\u001b[0;32m--> 530\u001b[0;31m       \u001b[0;32mraise\u001b[0m \u001b[0mInvalidResponseError\u001b[0m\u001b[0;34m(\u001b[0m\u001b[0mmsg\u001b[0m\u001b[0;34m)\u001b[0m\u001b[0;34m\u001b[0m\u001b[0m\n\u001b[0m\u001b[1;32m    531\u001b[0m \u001b[0;34m\u001b[0m\u001b[0m\n\u001b[1;32m    532\u001b[0m     \u001b[0;32mreturn\u001b[0m \u001b[0mmsg\u001b[0m\u001b[0;34m\u001b[0m\u001b[0m\n",
      "\u001b[0;31mInvalidResponseError\u001b[0m: {\"class\":\"ClickFailed\",\"message\":\"Failed to find position for element /html/body/div[@id='contenedor']/div[@id='solapas']/div[10]/table/tbody/tr[1]/td[1]/div[@id='solapaspanel1']/div[@id='cuerpoL']/div/div[@id='capaSelGrafica']/div[@id='display.grafica3']/table/tbody/tr[2]/td[2]/input[@id='nivEd12.grafica3'] because it is not visible\"}"
     ]
    }
   ],
   "source": [
    "# The second table is not that one I want. This table is generated by default when the page loads.\n",
    "# I need to update it by clicking on radio button labeled \"Primary\".\n",
    "# I try this with \"at_css\" method.\n",
    "\n",
    "render = dryscrape.Session()\n",
    "render.visit(\"http://www.madrid.org/wpad_pub/run/j/MostrarFichaCentro.icm?cdCentro=28063799\")\n",
    "radiob = render.at_css('#nivEd12\\.grafica3')\n",
    "radiob.click()\n",
    "source = render.body()\n",
    "school_card = BeautifulSoup(source, \"lxml\")\n",
    "school_tables = school_card.findAll('table', class_=\"tablaGraficaDatos\")\n",
    "\n",
    "table = list(school_tables)[1]\n",
    "pd.read_html(table.prettify())"
   ]
  },
  {
   "cell_type": "code",
   "execution_count": 15,
   "metadata": {},
   "outputs": [
    {
     "data": {
      "text/plain": [
       "[  PROCESO DE ADMISIÓN (solicitudes presentadas, admitidas, no admitidas)  \\\n",
       " 0                                        Presentadas                       \n",
       " 1                                          Admitidas                       \n",
       " 2                                       No admitidas                       \n",
       " \n",
       "    2012-2013  2013-2014  2014-2015  2015-2016  2016-2017  \n",
       " 0         20         25         25         20         18  \n",
       " 1         14         11          7          9         11  \n",
       " 2          6         14         18         11          7  ]"
      ]
     },
     "execution_count": 15,
     "metadata": {},
     "output_type": "execute_result"
    }
   ],
   "source": [
    "# The method doesn't work. The radio button is invisible because the parent node is not\n",
    "# displayed (<div id=\"solapaspanel1\" style=\"display: none;\">...</div>).\n",
    "# I try to run a piece of javascript to trigger that click event.\n",
    "\n",
    "render = dryscrape.Session()\n",
    "render.visit(\"http://www.madrid.org/wpad_pub/run/j/MostrarFichaCentro.icm?cdCentro=28063799\")\n",
    "render.driver.exec_script('document.getElementById(\"nivEd12.grafica3\").click();')\n",
    "source = render.body()\n",
    "school_card = BeautifulSoup(source, \"lxml\")\n",
    "school_tables = school_card.findAll('table', class_=\"tablaGraficaDatos\")\n",
    "table = list(school_tables)[1]\n",
    "pd.read_html(table.prettify())"
   ]
  },
  {
   "cell_type": "code",
   "execution_count": 29,
   "metadata": {},
   "outputs": [
    {
     "ename": "InvalidResponseError",
     "evalue": "{\"class\":\"InvalidResponseError\",\"message\":\"Javascript failed to execute\"}",
     "output_type": "error",
     "traceback": [
      "\u001b[0;31m---------------------------------------------------------------------------\u001b[0m",
      "\u001b[0;31mInvalidResponseError\u001b[0m                      Traceback (most recent call last)",
      "\u001b[0;32m<ipython-input-29-cde434c77eb5>\u001b[0m in \u001b[0;36m<module>\u001b[0;34m()\u001b[0m\n\u001b[1;32m     12\u001b[0m \u001b[0;32mfor\u001b[0m \u001b[0mz\u001b[0m\u001b[0;34m,\u001b[0m \u001b[0mschool\u001b[0m \u001b[0;32min\u001b[0m \u001b[0menumerate\u001b[0m\u001b[0;34m(\u001b[0m\u001b[0mschools_urls2\u001b[0m\u001b[0;34m)\u001b[0m\u001b[0;34m:\u001b[0m\u001b[0;34m\u001b[0m\u001b[0m\n\u001b[1;32m     13\u001b[0m     \u001b[0mrender\u001b[0m\u001b[0;34m.\u001b[0m\u001b[0mvisit\u001b[0m\u001b[0;34m(\u001b[0m\u001b[0mschool\u001b[0m\u001b[0;34m)\u001b[0m\u001b[0;34m\u001b[0m\u001b[0m\n\u001b[0;32m---> 14\u001b[0;31m     \u001b[0mrender\u001b[0m\u001b[0;34m.\u001b[0m\u001b[0mdriver\u001b[0m\u001b[0;34m.\u001b[0m\u001b[0mexec_script\u001b[0m\u001b[0;34m(\u001b[0m\u001b[0;34m'document.getElementById(\"nivEd12.grafica3\").click();'\u001b[0m\u001b[0;34m)\u001b[0m\u001b[0;34m\u001b[0m\u001b[0m\n\u001b[0m\u001b[1;32m     15\u001b[0m     \u001b[0msource\u001b[0m \u001b[0;34m=\u001b[0m \u001b[0mrender\u001b[0m\u001b[0;34m.\u001b[0m\u001b[0mbody\u001b[0m\u001b[0;34m(\u001b[0m\u001b[0;34m)\u001b[0m\u001b[0;34m\u001b[0m\u001b[0m\n\u001b[1;32m     16\u001b[0m     \u001b[0mschool_card\u001b[0m \u001b[0;34m=\u001b[0m \u001b[0mBeautifulSoup\u001b[0m\u001b[0;34m(\u001b[0m\u001b[0msource\u001b[0m\u001b[0;34m,\u001b[0m \u001b[0;34m\"lxml\"\u001b[0m\u001b[0;34m)\u001b[0m\u001b[0;34m\u001b[0m\u001b[0m\n",
      "\u001b[0;32m/home/giltrapo/.local/lib/python2.7/site-packages/webkit_server.pyc\u001b[0m in \u001b[0;36mexec_script\u001b[0;34m(self, script)\u001b[0m\n\u001b[1;32m    280\u001b[0m   \u001b[0;32mdef\u001b[0m \u001b[0mexec_script\u001b[0m\u001b[0;34m(\u001b[0m\u001b[0mself\u001b[0m\u001b[0;34m,\u001b[0m \u001b[0mscript\u001b[0m\u001b[0;34m)\u001b[0m\u001b[0;34m:\u001b[0m\u001b[0;34m\u001b[0m\u001b[0m\n\u001b[1;32m    281\u001b[0m     \u001b[0;34m\"\"\" Executes a piece of Javascript in the context of the current page. \"\"\"\u001b[0m\u001b[0;34m\u001b[0m\u001b[0m\n\u001b[0;32m--> 282\u001b[0;31m     \u001b[0mself\u001b[0m\u001b[0;34m.\u001b[0m\u001b[0mconn\u001b[0m\u001b[0;34m.\u001b[0m\u001b[0missue_command\u001b[0m\u001b[0;34m(\u001b[0m\u001b[0;34m\"Execute\"\u001b[0m\u001b[0;34m,\u001b[0m \u001b[0mscript\u001b[0m\u001b[0;34m)\u001b[0m\u001b[0;34m\u001b[0m\u001b[0m\n\u001b[0m\u001b[1;32m    283\u001b[0m \u001b[0;34m\u001b[0m\u001b[0m\n\u001b[1;32m    284\u001b[0m   \u001b[0;32mdef\u001b[0m \u001b[0mrender\u001b[0m\u001b[0;34m(\u001b[0m\u001b[0mself\u001b[0m\u001b[0;34m,\u001b[0m \u001b[0mpath\u001b[0m\u001b[0;34m,\u001b[0m \u001b[0mwidth\u001b[0m \u001b[0;34m=\u001b[0m \u001b[0;36m1024\u001b[0m\u001b[0;34m,\u001b[0m \u001b[0mheight\u001b[0m \u001b[0;34m=\u001b[0m \u001b[0;36m1024\u001b[0m\u001b[0;34m)\u001b[0m\u001b[0;34m:\u001b[0m\u001b[0;34m\u001b[0m\u001b[0m\n",
      "\u001b[0;32m/home/giltrapo/.local/lib/python2.7/site-packages/webkit_server.pyc\u001b[0m in \u001b[0;36missue_command\u001b[0;34m(self, cmd, *args)\u001b[0m\n\u001b[1;32m    518\u001b[0m       \u001b[0mself\u001b[0m\u001b[0;34m.\u001b[0m\u001b[0m_sock\u001b[0m\u001b[0;34m.\u001b[0m\u001b[0msendall\u001b[0m\u001b[0;34m(\u001b[0m\u001b[0marg\u001b[0m\u001b[0;34m.\u001b[0m\u001b[0mencode\u001b[0m\u001b[0;34m(\u001b[0m\u001b[0;34m\"utf-8\"\u001b[0m\u001b[0;34m)\u001b[0m\u001b[0;34m)\u001b[0m\u001b[0;34m\u001b[0m\u001b[0m\n\u001b[1;32m    519\u001b[0m \u001b[0;34m\u001b[0m\u001b[0m\n\u001b[0;32m--> 520\u001b[0;31m     \u001b[0;32mreturn\u001b[0m \u001b[0mself\u001b[0m\u001b[0;34m.\u001b[0m\u001b[0m_read_response\u001b[0m\u001b[0;34m(\u001b[0m\u001b[0;34m)\u001b[0m\u001b[0;34m\u001b[0m\u001b[0m\n\u001b[0m\u001b[1;32m    521\u001b[0m \u001b[0;34m\u001b[0m\u001b[0m\n\u001b[1;32m    522\u001b[0m   \u001b[0;32mdef\u001b[0m \u001b[0m_read_response\u001b[0m\u001b[0;34m(\u001b[0m\u001b[0mself\u001b[0m\u001b[0;34m)\u001b[0m\u001b[0;34m:\u001b[0m\u001b[0;34m\u001b[0m\u001b[0m\n",
      "\u001b[0;32m/home/giltrapo/.local/lib/python2.7/site-packages/webkit_server.pyc\u001b[0m in \u001b[0;36m_read_response\u001b[0;34m(self)\u001b[0m\n\u001b[1;32m    528\u001b[0m     \u001b[0mmsg\u001b[0m \u001b[0;34m=\u001b[0m \u001b[0mself\u001b[0m\u001b[0;34m.\u001b[0m\u001b[0m_read_message\u001b[0m\u001b[0;34m(\u001b[0m\u001b[0;34m)\u001b[0m\u001b[0;34m\u001b[0m\u001b[0m\n\u001b[1;32m    529\u001b[0m     \u001b[0;32mif\u001b[0m \u001b[0mresult\u001b[0m \u001b[0;34m!=\u001b[0m \u001b[0;34m\"ok\"\u001b[0m\u001b[0;34m:\u001b[0m\u001b[0;34m\u001b[0m\u001b[0m\n\u001b[0;32m--> 530\u001b[0;31m       \u001b[0;32mraise\u001b[0m \u001b[0mInvalidResponseError\u001b[0m\u001b[0;34m(\u001b[0m\u001b[0mmsg\u001b[0m\u001b[0;34m)\u001b[0m\u001b[0;34m\u001b[0m\u001b[0m\n\u001b[0m\u001b[1;32m    531\u001b[0m \u001b[0;34m\u001b[0m\u001b[0m\n\u001b[1;32m    532\u001b[0m     \u001b[0;32mreturn\u001b[0m \u001b[0mmsg\u001b[0m\u001b[0;34m\u001b[0m\u001b[0m\n",
      "\u001b[0;31mInvalidResponseError\u001b[0m: {\"class\":\"InvalidResponseError\",\"message\":\"Javascript failed to execute\"}"
     ]
    }
   ],
   "source": [
    "# Work fine. Now, the loop test.\n",
    "\n",
    "schools_urls2 = ['http://www.madrid.org/wpad_pub/run/j/MostrarFichaCentro.icm?cdCentro=28077865',\n",
    " 'http://www.madrid.org/wpad_pub/run/j/MostrarFichaCentro.icm?cdCentro=28063751',\n",
    " 'http://www.madrid.org/wpad_pub/run/j/MostrarFichaCentro.icm?cdCentro=28004989',\n",
    " 'http://www.madrid.org/wpad_pub/run/j/MostrarFichaCentro.icm?cdCentro=28004990']\n",
    "\n",
    "school_tables_collection = {}\n",
    "school_name_collection = []\n",
    "\n",
    "render = dryscrape.Session()\n",
    "for z, school in enumerate(schools_urls2):\n",
    "    render.visit(school)\n",
    "    render.driver.exec_script('document.getElementById(\"nivEd12.grafica3\").click();')\n",
    "    source = render.body()\n",
    "    school_card = BeautifulSoup(source, \"lxml\")\n",
    "    school_tables = school_card.findAll('table', class_=\"tablaGraficaDatos\")\n",
    "    school_name = school_card.find(style=\"text-transform:uppercase\").next.next\n",
    "    for i, table in list(enumerate(school_tables)):\n",
    "        if i <= 1:\n",
    "            school_tables_collection[school_name + \"_\" + str(i)] = \\\n",
    "            pd.read_html(table.prettify())\n",
    "            school_name_collection.append(school_name)\n",
    "\n",
    "            \n",
    "            print \"Tables of school %s extracted\" % schools_urls[z]"
   ]
  },
  {
   "cell_type": "code",
   "execution_count": 58,
   "metadata": {},
   "outputs": [
    {
     "name": "stdout",
     "output_type": "stream",
     "text": [
      "http://www.madrid.org/wpad_pub/run/j/MostrarFichaCentro.icm?cdCentro=28077865\n",
      "http://www.madrid.org/wpad_pub/run/j/MostrarFichaCentro.icm?cdCentro=28063751\n",
      "http://www.madrid.org/wpad_pub/run/j/MostrarFichaCentro.icm?cdCentro=28004989\n",
      "http://www.madrid.org/wpad_pub/run/j/MostrarFichaCentro.icm?cdCentro=28004990\n"
     ]
    }
   ],
   "source": [
    "schools_urls2 = ['http://www.madrid.org/wpad_pub/run/j/MostrarFichaCentro.icm?cdCentro=28077865',\n",
    " 'http://www.madrid.org/wpad_pub/run/j/MostrarFichaCentro.icm?cdCentro=28063751',\n",
    " 'http://www.madrid.org/wpad_pub/run/j/MostrarFichaCentro.icm?cdCentro=28004989',\n",
    " 'http://www.madrid.org/wpad_pub/run/j/MostrarFichaCentro.icm?cdCentro=28004990']\n",
    "\n",
    "\n",
    "for z, school in enumerate(schools_urls2):\n",
    "    render = dryscrape.Session()\n",
    "    render.visit(url)\n",
    "    #render.driver.exec_script('document.getElementById(\"nivEd12.grafica3\").click();')\n",
    "    #source = render.body()\n",
    "    #school_card = BeautifulSoup(source, \"lxml\")\n",
    "    #school_tables = school_card.findAll('table', class_=\"tablaGraficaDatos\")\n",
    "    #table = list(school_tables)[1]\n",
    "    #print pd.read_html(table.prettify())\n",
    "    render.reset()\n",
    "    print school\n",
    "    "
   ]
  },
  {
   "cell_type": "code",
   "execution_count": 42,
   "metadata": {
    "scrolled": true
   },
   "outputs": [
    {
     "name": "stdout",
     "output_type": "stream",
     "text": [
      "0 'http://www.madrid.org/wpad_pub/run/j/MostrarFichaCentro.icm?cdCentro=28077865'\n",
      "1 'http://www.madrid.org/wpad_pub/run/j/MostrarFichaCentro.icm?cdCentro=28063751'\n",
      "2 'http://www.madrid.org/wpad_pub/run/j/MostrarFichaCentro.icm?cdCentro=28004989'\n",
      "3 'http://www.madrid.org/wpad_pub/run/j/MostrarFichaCentro.icm?cdCentro=28004990'\n"
     ]
    }
   ],
   "source": [
    "schools_urls2 = [\"'http://www.madrid.org/wpad_pub/run/j/MostrarFichaCentro.icm?cdCentro=28077865'\",\n",
    " \"'http://www.madrid.org/wpad_pub/run/j/MostrarFichaCentro.icm?cdCentro=28063751'\",\n",
    " \"'http://www.madrid.org/wpad_pub/run/j/MostrarFichaCentro.icm?cdCentro=28004989'\",\n",
    " \"'http://www.madrid.org/wpad_pub/run/j/MostrarFichaCentro.icm?cdCentro=28004990'\"]\n",
    "\n",
    "for z, school in enumerate(schools_urls2):\n",
    "    print z, school"
   ]
  },
  {
   "cell_type": "code",
   "execution_count": null,
   "metadata": {},
   "outputs": [],
   "source": []
  }
 ],
 "metadata": {
  "kernelspec": {
   "display_name": "Python 2",
   "language": "python",
   "name": "python2"
  },
  "language_info": {
   "codemirror_mode": {
    "name": "ipython",
    "version": 2
   },
   "file_extension": ".py",
   "mimetype": "text/x-python",
   "name": "python",
   "nbconvert_exporter": "python",
   "pygments_lexer": "ipython2",
   "version": "2.7.12"
  }
 },
 "nbformat": 4,
 "nbformat_minor": 2
}
