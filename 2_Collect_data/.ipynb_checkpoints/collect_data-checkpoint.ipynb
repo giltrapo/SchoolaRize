{
 "cells": [
  {
   "cell_type": "code",
   "execution_count": null,
   "metadata": {},
   "outputs": [],
   "source": [
    "% cd ~/Master_Data_Science/TFM/2_Collect_data/\n",
    "% pwd"
   ]
  },
  {
   "cell_type": "markdown",
   "metadata": {},
   "source": [
    "### Collect codes of public elementary schools in municipality of Madrid."
   ]
  },
  {
   "cell_type": "code",
   "execution_count": null,
   "metadata": {},
   "outputs": [],
   "source": [
    "import re\n",
    "import requests\n",
    "from bs4 import BeautifulSoup\n",
    "import pandas as pd"
   ]
  },
  {
   "cell_type": "code",
   "execution_count": null,
   "metadata": {},
   "outputs": [],
   "source": [
    "# Url to perform advanced searches.\n",
    "url_advsearch = \"http://www.madrid.org/wpad_pub/run/j/BusquedaAvanzada.icm\""
   ]
  },
  {
   "cell_type": "code",
   "execution_count": null,
   "metadata": {},
   "outputs": [],
   "source": [
    "# Parameter for searching public primary schools in municipality of Madrid\n",
    "params = {\"titularidadPublica\": \"S\", \"cdMuni\": \"079\", \"cdNivelEdu\": \"6545\"}"
   ]
  },
  {
   "cell_type": "code",
   "execution_count": null,
   "metadata": {},
   "outputs": [],
   "source": [
    "# Request and parse list of schools.\n",
    "schools = BeautifulSoup(requests.post(url_advsearch, data = params).content, \"lxml\")"
   ]
  },
  {
   "cell_type": "code",
   "execution_count": null,
   "metadata": {},
   "outputs": [],
   "source": [
    "# Extract list of school codes.\n",
    "school_codes = schools.findAll(attrs = {\"name\": \"codCentrosExp\", \"value\": re.compile(\"^.+$\")})[0][\"value\"]"
   ]
  },
  {
   "cell_type": "code",
   "execution_count": null,
   "metadata": {},
   "outputs": [],
   "source": [
    "# Convert from string to list.\n",
    "school_codes = school_codes.split(\";\")\n",
    "\n",
    "# Check codes.\n",
    "# 247 it's ok.\n",
    "print len(school_codes)"
   ]
  },
  {
   "cell_type": "code",
   "execution_count": null,
   "metadata": {},
   "outputs": [],
   "source": [
    "# Save the list of school codes\n",
    "\n",
    "import pickle\n",
    "\n",
    "with open(\"school_codes.txt\", \"wb\") as f:\n",
    "    pickle.dump(school_codes, f)"
   ]
  },
  {
   "cell_type": "code",
   "execution_count": null,
   "metadata": {},
   "outputs": [],
   "source": [
    "# open list of school codes\n",
    "with open(\"school_codes.txt\", \"rb\") as f:\n",
    "    school_codes = pickle.load(f)"
   ]
  },
  {
   "cell_type": "markdown",
   "metadata": {},
   "source": [
    "### Extract tables from school cards."
   ]
  },
  {
   "cell_type": "code",
   "execution_count": null,
   "metadata": {},
   "outputs": [],
   "source": [
    "# The data that we want to obtain from each school is contained in tables,\n",
    "# whose content is generated on-the-fly through JavaScript code.\n",
    "# We can't use 'request' library again because only fetch source code of\n",
    "# the web page but it doesn't run code. So we need to mimic the rendering\n",
    "# process of a browser. Let's use dryscrape\n",
    "\n",
    "import dryscrape"
   ]
  },
  {
   "cell_type": "code",
   "execution_count": null,
   "metadata": {},
   "outputs": [],
   "source": [
    "# School card url.\n",
    "url_schoolcard = \"http://www.madrid.org/wpad_pub/run/j/MostrarFichaCentro.icm\"\n",
    "\n",
    "# School code parameter.\n",
    "school_code_par = \"cdCentro=\"\n",
    "\n",
    "# List of schools urls\n",
    "schools_urls = [url_schoolcard + \"?\" + school_code_par + code for code in school_codes]"
   ]
  },
  {
   "cell_type": "code",
   "execution_count": null,
   "metadata": {},
   "outputs": [],
   "source": [
    "render = dryscrape.Session()\n",
    "render.visit(\"http://www.madrid.org/wpad_pub/run/j/MostrarFichaCentro.icm?cdCentro=28063799\")\n",
    "source = render.body()\n",
    "school_card = BeautifulSoup(source, \"lxml\")\n",
    "school_tables = school_card.findAll('table', class_=\"tablaGraficaDatos\")\n",
    "\n",
    "table = list(school_tables)[1]\n",
    "table"
   ]
  },
  {
   "cell_type": "code",
   "execution_count": null,
   "metadata": {},
   "outputs": [],
   "source": [
    "type(table)"
   ]
  },
  {
   "cell_type": "code",
   "execution_count": null,
   "metadata": {},
   "outputs": [],
   "source": [
    "pd.read_html(table.prettify())"
   ]
  },
  {
   "cell_type": "code",
   "execution_count": 11,
   "metadata": {},
   "outputs": [
    {
     "data": {
      "text/plain": [
       "[  PROCESO DE ADMISIÓN (solicitudes presentadas, admitidas, no admitidas)  \\\n",
       " 0                                        Presentadas                       \n",
       " 1                                          Admitidas                       \n",
       " 2                                       No admitidas                       \n",
       " \n",
       "    2012-2013  2013-2014  2014-2015  2015-2016  2016-2017  \n",
       " 0         20         25         25         20         18  \n",
       " 1         14         11          7          9         11  \n",
       " 2          6         14         18         11          7  ]"
      ]
     },
     "execution_count": 11,
     "metadata": {},
     "output_type": "execute_result"
    }
   ],
   "source": [
    "from bs4 import BeautifulSoup\n",
    "import pandas as pd\n",
    "import dryscrape\n",
    "\n",
    "render = dryscrape.Session()\n",
    "render.visit(\"http://www.madrid.org/wpad_pub/run/j/MostrarFichaCentro.icm?cdCentro=28063799\")\n",
    "render.driver.exec_script('document.getElementById(\"nivEd12.grafica3\").click();')\n",
    "#radiob = render.at_css('#nivEd12\\.grafica3')\n",
    "#radiob = render.at_xpath('//*[@id=\"nivEd12.grafica3\"]')\n",
    "#radiob.click()\n",
    "source = render.body()\n",
    "school_card = BeautifulSoup(source, \"lxml\")\n",
    "school_tables = school_card.findAll('table', class_=\"tablaGraficaDatos\")\n",
    "table = list(school_tables)[1]\n",
    "pd.read_html(table.prettify())"
   ]
  },
  {
   "cell_type": "code",
   "execution_count": null,
   "metadata": {},
   "outputs": [],
   "source": [
    "session = dryscrape.Session()\n",
    "session.set_attribute('auto_load_images', False)\n",
    "session.visit(\"http://www.madrid.org/wpad_pub/run/j/MostrarFichaCentro.icm?cdCentro=28063799\")\n",
    "radiob = session.at_xpath('//*[(@id = \"nivEd12\\.grafica3\")]')\n",
    "radiob.click()\n",
    "source = session.body()\n",
    "school_card = BeautifulSoup(source, \"lxml\")\n",
    "school_tables = school_card.findAll('table', class_=\"tablaGraficaDatos\")\n",
    "table = list(school_tables)[1]\n",
    "pd.read_html(table.prettify())"
   ]
  }
 ],
 "metadata": {
  "kernelspec": {
   "display_name": "Python 2",
   "language": "python",
   "name": "python2"
  },
  "language_info": {
   "codemirror_mode": {
    "name": "ipython",
    "version": 2
   },
   "file_extension": ".py",
   "mimetype": "text/x-python",
   "name": "python",
   "nbconvert_exporter": "python",
   "pygments_lexer": "ipython2",
   "version": "2.7.12"
  }
 },
 "nbformat": 4,
 "nbformat_minor": 2
}
