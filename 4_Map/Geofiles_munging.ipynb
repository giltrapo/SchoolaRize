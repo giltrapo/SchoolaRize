{
 "cells": [
  {
   "cell_type": "code",
   "execution_count": 1,
   "metadata": {
    "scrolled": true
   },
   "outputs": [
    {
     "data": {
      "text/plain": [
       "u'/home/giltrapo/Master_Data_Science/TFM/4_Map'"
      ]
     },
     "execution_count": 1,
     "metadata": {},
     "output_type": "execute_result"
    }
   ],
   "source": [
    "%pwd"
   ]
  },
  {
   "cell_type": "code",
   "execution_count": 2,
   "metadata": {},
   "outputs": [],
   "source": [
    "import numpy as np\n",
    "import pandas as pd\n",
    "import geopandas as gpd\n",
    "import difflib\n",
    "import urllib\n",
    "import zipfile\n",
    "import os\n",
    "import json\n",
    "import geojson"
   ]
  },
  {
   "cell_type": "code",
   "execution_count": 3,
   "metadata": {},
   "outputs": [],
   "source": [
    "# Load \"DataSchools\" files.\n",
    "\n",
    "DataSchools = pd.read_csv(\"../3_Data_Munging/csv_files/DataSchools.csv\")"
   ]
  },
  {
   "cell_type": "code",
   "execution_count": 4,
   "metadata": {},
   "outputs": [],
   "source": [
    "# Load \"StudentsByPlace\" files.\n",
    "\n",
    "StudentsByPlace = pd.read_csv(\"../3_Data_Munging/csv_files/StudentsByPlace.csv\")"
   ]
  },
  {
   "cell_type": "code",
   "execution_count": 5,
   "metadata": {},
   "outputs": [],
   "source": [
    "# City Hall url to download shapefiles of Madrid City districts.\n",
    "\n",
    "url = \"http://datos.madrid.es/egob/catalogo/200078-9-distritos-barrios.zip\""
   ]
  },
  {
   "cell_type": "code",
   "execution_count": 6,
   "metadata": {},
   "outputs": [
    {
     "data": {
      "text/plain": [
       "('geo_files/DISTRITOS_ETRS89.zip',\n",
       " <httplib.HTTPMessage instance at 0x7f410d4d3518>)"
      ]
     },
     "execution_count": 6,
     "metadata": {},
     "output_type": "execute_result"
    }
   ],
   "source": [
    "# Download shapefile.\n",
    "\n",
    "urllib.urlretrieve (url, \"geo_files/DISTRITOS_ETRS89.zip\")"
   ]
  },
  {
   "cell_type": "code",
   "execution_count": 7,
   "metadata": {},
   "outputs": [],
   "source": [
    "# Unzip shapefile.\n",
    "\n",
    "with zipfile.ZipFile(\"geo_files/DISTRITOS_ETRS89.zip\",\"r\") as zip_file:\n",
    "    zip_file.extractall(\"geo_files/\")"
   ]
  },
  {
   "cell_type": "code",
   "execution_count": 8,
   "metadata": {},
   "outputs": [],
   "source": [
    "# Load shapefile and add variable.\n",
    "\n",
    "MAD_districts = gpd.read_file(\"geo_files/SHP_ETRS89/DISTRITOS.shp\")\n",
    "MAD_districts[\"Distrito\"] = MAD_districts[\"NOMBRE\"].str.upper()"
   ]
  },
  {
   "cell_type": "code",
   "execution_count": 9,
   "metadata": {},
   "outputs": [],
   "source": [
    "# We use \"difflib\" library to create a variable in \"MAD_districts_ETR89\" dataframe with the same district\n",
    "# name as the one in \"StudentByPlace\" dataframe.\n",
    "\n",
    "for i, district in enumerate(MAD_districts[\"Distrito\"]):\n",
    "    try:\n",
    "        MAD_districts.loc[i, \"Distrito\"] = difflib.get_close_matches(district, StudentsByPlace[\"Distrito\"], n = 1)[0]\n",
    "    except:\n",
    "        MAD_districts.loc[i, \"Distrito\"] = np.NaN[0]"
   ]
  },
  {
   "cell_type": "code",
   "execution_count": 10,
   "metadata": {},
   "outputs": [],
   "source": [
    "# Merge information about students and places.\n",
    "\n",
    "MAD_districts = pd.merge(MAD_districts, StudentsByPlace, on = \"Distrito\")\n",
    "MAD_districts = MAD_districts[[\"NOMBRE\", \"geometry\", \"Distrito\", \"NinosxPlaza\"]]"
   ]
  },
  {
   "cell_type": "code",
   "execution_count": 11,
   "metadata": {
    "scrolled": true
   },
   "outputs": [],
   "source": [
    "# Transform from UTM to WGS84 (Lat-Lon) format.\n",
    "\n",
    "MAD_districts = MAD_districts.to_crs({'init': 'epsg:4326'})"
   ]
  },
  {
   "cell_type": "code",
   "execution_count": 12,
   "metadata": {},
   "outputs": [],
   "source": [
    "# Assign colors based on the value of the variable \"NinosxPlaza\", remove repeated variable and rename columns.\n",
    "\n",
    "MAD_districts.loc[(MAD_districts[\"NinosxPlaza\"] > 1) & (MAD_districts[\"NinosxPlaza\"] < 2), \"Color\"] = \"#eef5db\"\n",
    "MAD_districts.loc[(MAD_districts[\"NinosxPlaza\"] > 2) & (MAD_districts[\"NinosxPlaza\"] < 3), \"Color\"] = \"#c7efcf\"\n",
    "MAD_districts.loc[(MAD_districts[\"NinosxPlaza\"] > 3) & (MAD_districts[\"NinosxPlaza\"] < 4), \"Color\"] = \"#d6d1b1\"\n",
    "MAD_districts.loc[(MAD_districts[\"NinosxPlaza\"] > 4) & (MAD_districts[\"NinosxPlaza\"] < 5), \"Color\"] = \"#f0b67f\"\n",
    "MAD_districts.loc[(MAD_districts[\"NinosxPlaza\"] > 8) & (MAD_districts[\"NinosxPlaza\"] < 9), \"Color\"] = \"#fe5f55\"\n",
    "del MAD_districts[\"Distrito\"]\n",
    "MAD_districts.columns = [\"Distrito\", \"geometry\", \"NinosxPlaza\", \"Color\"]"
   ]
  },
  {
   "cell_type": "code",
   "execution_count": 13,
   "metadata": {},
   "outputs": [],
   "source": [
    "# Save geodataframe in GeoJSON format.\n",
    "\n",
    "MAD_districts.to_file(\"geo_files/geojson_districts\", driver = \"GeoJSON\")"
   ]
  },
  {
   "cell_type": "code",
   "execution_count": null,
   "metadata": {},
   "outputs": [],
   "source": [
    "# Segment geodataframe based on the variable \"NinosxPlaza\", and save it in GeoJSON format.\n",
    "#\n",
    "#plazas = [1, 2, 3, 4, 8]\n",
    "#\n",
    "#for i in plazas:\n",
    "#    lim_inf = i\n",
    "#    lim_sup = i + 1\n",
    "#    MAD_districts[(MAD_districts[\"NinosxPlaza\"] > lim_inf) & (MAD_districts[\"NinosxPlaza\"] < lim_sup)]\\\n",
    "#    .to_file(\"geo_files/geojson_districts_\" + str(i), driver = \"GeoJSON\")"
   ]
  },
  {
   "cell_type": "code",
   "execution_count": null,
   "metadata": {},
   "outputs": [],
   "source": [
    "# Create list of sorted GeoJSON files.\n",
    "#\n",
    "#files = [\"geo_files/\" + f for f in os.listdir(\"geo_files/\") if f.startswith(\"geojson_districts_\")]\n",
    "#files.sort()"
   ]
  },
  {
   "cell_type": "code",
   "execution_count": null,
   "metadata": {},
   "outputs": [],
   "source": [
    "# Load GeoJSON information by \"NinosxPlaza\" into dictionary.\n",
    "#\n",
    "#geojson_districts_groups = dict()\n",
    "#\n",
    "#for i, file in enumerate(files):\n",
    "#    objectname = \"group_\" + file[-1]\n",
    "#    with open(file) as data_file:\n",
    "#        geojson_file = json.load(data_file)\n",
    "#    geojson_districts_groups[objectname] = geojson_file"
   ]
  },
  {
   "cell_type": "code",
   "execution_count": 14,
   "metadata": {},
   "outputs": [],
   "source": [
    "# We going to build another geojson file with the schools coordinates\n",
    "\n",
    "df = DataSchools[[\"Colegio\", \"Barrio\", \"Distrito\", \"Latitud\", \"Longitud\",\n",
    "                  \"Solicitudes_2016-2017\", \"Admisiones_2016-2017\"]].copy()\n",
    "df.columns = [\"Colegio\", \"Barrio\", \"Distrito\", \"Latitud\", \"Longitud\", \"Solicitudes\", \"Admisiones\"]\n",
    "df[\"Admisiones_p\"] = (df[\"Admisiones\"]/df[\"Solicitudes\"])*100\n",
    "df.fillna(0, inplace = True)\n",
    "df[[\"Solicitudes\", \"Admisiones\"]] = df[[\"Solicitudes\", \"Admisiones\"]].astype(int)\n",
    "df[\"Admisiones_p\"] = df[\"Admisiones_p\"].round(1)\n",
    "df[\"Admisiones_p\"] = df[\"Admisiones_p\"].astype(str) + \"%\""
   ]
  },
  {
   "cell_type": "code",
   "execution_count": 16,
   "metadata": {},
   "outputs": [],
   "source": [
    "# Function to convert pandas dataframe to geojson format.\n",
    "\n",
    "def pandas2geojson(df):\n",
    "    features = []\n",
    "    df.apply(lambda X: features.append(\n",
    "        geojson.Feature(geometry = geojson.Point((X[\"Longitud\"],\n",
    "                                                  X[\"Latitud\"])),\n",
    "                        properties = dict(colegio = X[\"Colegio\"], \n",
    "                                          barrio = X[\"Barrio\"],\n",
    "                                          distrito = X[\"Distrito\"],\n",
    "                                          solicitudes = X[\"Solicitudes\"],\n",
    "                                          admisiones = X[\"Admisiones\"],\n",
    "                                          admisiones_p = X[\"Admisiones_p\"]\n",
    "                                         )\n",
    "                       )),\n",
    "             axis=1)\n",
    "    with open(\"geo_files/geojson_schools\", \"w\") as fp:\n",
    "        geojson.dump(geojson.FeatureCollection(features), fp, sort_keys = True)\n",
    "\n",
    "pandas2geojson(df)"
   ]
  },
  {
   "cell_type": "code",
   "execution_count": null,
   "metadata": {},
   "outputs": [],
   "source": []
  }
 ],
 "metadata": {
  "kernelspec": {
   "display_name": "Python 2",
   "language": "python",
   "name": "python2"
  },
  "language_info": {
   "codemirror_mode": {
    "name": "ipython",
    "version": 2
   },
   "file_extension": ".py",
   "mimetype": "text/x-python",
   "name": "python",
   "nbconvert_exporter": "python",
   "pygments_lexer": "ipython2",
   "version": "2.7.12"
  }
 },
 "nbformat": 4,
 "nbformat_minor": 2
}
