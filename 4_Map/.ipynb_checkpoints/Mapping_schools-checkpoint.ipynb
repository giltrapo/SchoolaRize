{
 "cells": [
  {
   "cell_type": "code",
   "execution_count": 1,
   "metadata": {},
   "outputs": [
    {
     "name": "stdout",
     "output_type": "stream",
     "text": [
      "/home/giltrapo/Master_Data_Science/TFM/4_Map\r\n"
     ]
    }
   ],
   "source": [
    "!pwd"
   ]
  },
  {
   "cell_type": "code",
   "execution_count": 2,
   "metadata": {},
   "outputs": [],
   "source": [
    "import numpy as np\n",
    "import pandas as pd\n",
    "import geopandas as gpd\n",
    "import difflib\n",
    "import urllib\n",
    "import zipfile\n",
    "#import plotly.offline as py\n",
    "#import plotly.graph_objs as go\n",
    "#import matplotlib.pyplot as plt\n",
    "#%matplotlib inline\n",
    "import json\n",
    "import dash\n",
    "import dash_html_components as html\n",
    "import dash_core_components as dcc\n",
    "#from dash.dependencies import Input, Output"
   ]
  },
  {
   "cell_type": "code",
   "execution_count": 3,
   "metadata": {},
   "outputs": [],
   "source": [
    "# Load \"DataSchools\" and \"StudentsByPlace\" files.\n",
    "\n",
    "DataSchools = pd.read_csv(\"../3_Data_Munging/csv_files/DataSchools.csv\")\n",
    "StudentsByPlace = pd.read_csv(\"../3_Data_Munging/csv_files/StudentsByPlace.csv\")"
   ]
  },
  {
   "cell_type": "code",
   "execution_count": 4,
   "metadata": {},
   "outputs": [],
   "source": [
    "# City Hall url to download shapefiles of Madrid City districts.\n",
    "\n",
    "url = \"http://datos.madrid.es/egob/catalogo/200078-9-distritos-barrios.zip\""
   ]
  },
  {
   "cell_type": "code",
   "execution_count": 5,
   "metadata": {},
   "outputs": [
    {
     "data": {
      "text/plain": [
       "('geo_files/DISTRITOS_ETRS89.zip',\n",
       " <httplib.HTTPMessage instance at 0x7fce258ef830>)"
      ]
     },
     "execution_count": 5,
     "metadata": {},
     "output_type": "execute_result"
    }
   ],
   "source": [
    "# Download shapefile.\n",
    "\n",
    "urllib.urlretrieve (url, \"geo_files/DISTRITOS_ETRS89.zip\")"
   ]
  },
  {
   "cell_type": "code",
   "execution_count": 6,
   "metadata": {},
   "outputs": [],
   "source": [
    "# Unzip shapefile.\n",
    "\n",
    "with zipfile.ZipFile(\"geo_files/DISTRITOS_ETRS89.zip\",\"r\") as zip_file:\n",
    "    zip_file.extractall(\"geo_files/\")"
   ]
  },
  {
   "cell_type": "code",
   "execution_count": 7,
   "metadata": {},
   "outputs": [],
   "source": [
    "# Load shapefile and add variable.\n",
    "\n",
    "MAD_districts_ETRS89 = gpd.read_file(\"geo_files/SHP_ETRS89/DISTRITOS.shp\")\n",
    "MAD_districts_ETRS89[\"Distrito\"] = MAD_districts_ETRS89[\"NOMBRE\"].str.upper()"
   ]
  },
  {
   "cell_type": "code",
   "execution_count": 8,
   "metadata": {},
   "outputs": [],
   "source": [
    "# We use \"difflib\" library to create a variable in \"MAD_districts_ETR89\" dataframe with the same district\n",
    "# name as the one in \"StudentByPlace\" dataframe.\n",
    "\n",
    "for i, district in enumerate(MAD_districts_ETRS89[\"Distrito\"]):\n",
    "    try:\n",
    "        MAD_districts_ETRS89.loc[i, \"Distrito\"] = difflib.get_close_matches(district, \n",
    "                                                                            StudentsByPlace[\"Distrito\"], n = 1)[0]\n",
    "    except:\n",
    "        MAD_districts_ETRS89.loc[i, \"Distrito\"] = np.NaN[0]"
   ]
  },
  {
   "cell_type": "code",
   "execution_count": 9,
   "metadata": {},
   "outputs": [],
   "source": [
    "# Merge information about students and places.\n",
    "\n",
    "MAD_districts = pd.merge(MAD_districts_ETRS89, StudentsByPlace, on = \"Distrito\")\n",
    "MAD_districts = MAD_districts[[\"NOMBRE\", \"geometry\", \"Alumnos_x_plaza\"]]"
   ]
  },
  {
   "cell_type": "code",
   "execution_count": 10,
   "metadata": {},
   "outputs": [],
   "source": [
    "# Transform from UTM to WGS84 (Lat-Lon) format and save in GeoJSON format.\n",
    "\n",
    "MAD_districts_WGS84 = MAD_districts_ETRS89.to_crs({'init': 'epsg:4326'})\n",
    "MAD_districts_WGS84.to_file(\"geo_files/MAD_districts_WGS84\", driver = \"GeoJSON\")"
   ]
  },
  {
   "cell_type": "code",
   "execution_count": 11,
   "metadata": {},
   "outputs": [],
   "source": [
    "# Load GeoJSON information into object.\n",
    "\n",
    "with open(\"geo_files/MAD_districts_WGS84\") as data_file:\n",
    "    geojson_source = json.load(data_file)"
   ]
  },
  {
   "cell_type": "code",
   "execution_count": 16,
   "metadata": {},
   "outputs": [],
   "source": [
    "mapbox_access_token = 'pk.eyJ1IjoiZ2lsdHJhcG8iLCJhIjoiY2o4eWJyNzY4MXQ1ZDJ3b2JsZHZxb3N0ciJ9.MROnmydnXtfjqjIBtC-P5g'\n",
    "\n",
    "data = [\n",
    "    dict(\n",
    "        type = \"scattermapbox\",\n",
    "        lat = DataSchools[\"Latitud\"],\n",
    "        lon = DataSchools[\"Longitud\"],\n",
    "        mode = \"markers\",\n",
    "        marker = dict(size = 8),\n",
    "        text = DataSchools[\"Colegio\"]\n",
    "    )\n",
    "]\n",
    "\n",
    "layout = dict(\n",
    "    autosize = True,\n",
    "    hovermode = \"closest\",\n",
    "    mapbox = dict(\n",
    "        accesstoken = mapbox_access_token,\n",
    "        bearing = 0,\n",
    "        center = dict(lat = 40.48, lon = -3.65),\n",
    "        pitch = 0,\n",
    "        zoom = 10,\n",
    "        style = \"light\",\n",
    "        layers = [\n",
    "            dict(\n",
    "                type = \"fill\",\n",
    "                sourcetype = \"geojson\",\n",
    "                source = geojson_source,\n",
    "                color = \"#F5D0A9\",\n",
    "                opacity = 0.8\n",
    "            )\n",
    "        ]\n",
    "    )\n",
    ")\n",
    "\n",
    "fig = dict(data = data, layout = layout)"
   ]
  },
  {
   "cell_type": "code",
   "execution_count": 17,
   "metadata": {
    "scrolled": true
   },
   "outputs": [
    {
     "name": "stderr",
     "output_type": "stream",
     "text": [
      " * Running on http://127.0.0.1:8050/ (Press CTRL+C to quit)\n",
      "127.0.0.1 - - [22/Oct/2017 23:49:49] \"\u001b[37mGET / HTTP/1.1\u001b[0m\" 200 -\n",
      "127.0.0.1 - - [22/Oct/2017 23:49:50] \"\u001b[37mGET /_dash-layout HTTP/1.1\u001b[0m\" 200 -\n",
      "127.0.0.1 - - [22/Oct/2017 23:49:50] \"\u001b[37mGET /_dash-dependencies HTTP/1.1\u001b[0m\" 200 -\n"
     ]
    }
   ],
   "source": [
    "app = dash.Dash()\n",
    "\n",
    "app.layout = html.Div(\n",
    "    id = \"divprinc\",\n",
    "    style = {\"width\": \"80%\", \"height\": \"100vh\"},\n",
    "    children = [\n",
    "        dcc.Graph(id = \"map\", figure = fig, style = {\"display\": \"inline-block\", \"width\": \"100%\", \"height\": \"100%\"})\n",
    "    ]\n",
    ")\n",
    "\n",
    "app.run_server()"
   ]
  },
  {
   "cell_type": "code",
   "execution_count": null,
   "metadata": {},
   "outputs": [],
   "source": []
  },
  {
   "cell_type": "code",
   "execution_count": null,
   "metadata": {},
   "outputs": [],
   "source": []
  }
 ],
 "metadata": {
  "kernelspec": {
   "display_name": "Python 2",
   "language": "python",
   "name": "python2"
  },
  "language_info": {
   "codemirror_mode": {
    "name": "ipython",
    "version": 2
   },
   "file_extension": ".py",
   "mimetype": "text/x-python",
   "name": "python",
   "nbconvert_exporter": "python",
   "pygments_lexer": "ipython2",
   "version": "2.7.12"
  }
 },
 "nbformat": 4,
 "nbformat_minor": 2
}
